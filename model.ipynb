{
 "cells": [
  {
   "cell_type": "code",
   "execution_count": 1,
   "id": "81fe472c",
   "metadata": {},
   "outputs": [],
   "source": [
    "import json\n",
    "import numpy as np\n",
    "import pandas as pd\n",
    "import plotly.express as px\n",
    "import plotly.graph_objects as go\n",
    "\n",
    "from datetime import datetime\n",
    "from sklearn.model_selection import train_test_split, StratifiedKFold\n",
    "from sklearn.metrics import classification_report, confusion_matrix\n",
    "from sklearn.utils import compute_class_weight\n",
    "\n",
    "from keras.layers import Dense, LSTM, Bidirectional, Concatenate\n",
    "from keras.layers import Embedding\n",
    "from keras.models import Sequential\n",
    "from keras.callbacks import ModelCheckpoint, CSVLogger"
   ]
  },
  {
   "cell_type": "code",
   "execution_count": 2,
   "id": "84fb1e7d",
   "metadata": {},
   "outputs": [],
   "source": [
    "# fix random seed for reproducibility\n",
    "seed = 7\n",
    "test_size = 0.2\n",
    "units = 64\n",
    "epochs = 10"
   ]
  },
  {
   "cell_type": "code",
   "execution_count": 3,
   "id": "a53577bf",
   "metadata": {},
   "outputs": [
    {
     "data": {
      "text/html": [
       "<div>\n",
       "<style scoped>\n",
       "    .dataframe tbody tr th:only-of-type {\n",
       "        vertical-align: middle;\n",
       "    }\n",
       "\n",
       "    .dataframe tbody tr th {\n",
       "        vertical-align: top;\n",
       "    }\n",
       "\n",
       "    .dataframe thead th {\n",
       "        text-align: right;\n",
       "    }\n",
       "</style>\n",
       "<table border=\"1\" class=\"dataframe\">\n",
       "  <thead>\n",
       "    <tr style=\"text-align: right;\">\n",
       "      <th></th>\n",
       "      <th>activity_label</th>\n",
       "      <th>D001-CLOSED</th>\n",
       "      <th>D001-OPEN</th>\n",
       "      <th>D002-CLOSED</th>\n",
       "      <th>D002-OPEN</th>\n",
       "      <th>D004-CLOSED</th>\n",
       "      <th>D004-OPEN</th>\n",
       "      <th>M001-OFF</th>\n",
       "      <th>M001-ON</th>\n",
       "      <th>M002-OFF</th>\n",
       "      <th>...</th>\n",
       "      <th>T005-15.97 - 18.70</th>\n",
       "      <th>T005-18.70 - 21.40</th>\n",
       "      <th>T005-21.40 - 24.10</th>\n",
       "      <th>T005-24.10 - 26.80</th>\n",
       "      <th>T005-26.80 - 29.50</th>\n",
       "      <th>T005-29.50 - 32.20</th>\n",
       "      <th>T005-32.20 - 34.90</th>\n",
       "      <th>T005-34.90 - 37.60</th>\n",
       "      <th>T005-37.60 - 40.30</th>\n",
       "      <th>T005-40.30 - 43.00</th>\n",
       "    </tr>\n",
       "  </thead>\n",
       "  <tbody>\n",
       "    <tr>\n",
       "      <th>0</th>\n",
       "      <td>0</td>\n",
       "      <td>0.0</td>\n",
       "      <td>0.0</td>\n",
       "      <td>0.0</td>\n",
       "      <td>0.0</td>\n",
       "      <td>0.0</td>\n",
       "      <td>0.0</td>\n",
       "      <td>0.0</td>\n",
       "      <td>0.0</td>\n",
       "      <td>0.0</td>\n",
       "      <td>...</td>\n",
       "      <td>0.0</td>\n",
       "      <td>0.0</td>\n",
       "      <td>0.0</td>\n",
       "      <td>0.0</td>\n",
       "      <td>0.0</td>\n",
       "      <td>0.0</td>\n",
       "      <td>0.0</td>\n",
       "      <td>0.0</td>\n",
       "      <td>0.0</td>\n",
       "      <td>0.0</td>\n",
       "    </tr>\n",
       "    <tr>\n",
       "      <th>1</th>\n",
       "      <td>0</td>\n",
       "      <td>0.0</td>\n",
       "      <td>0.0</td>\n",
       "      <td>0.0</td>\n",
       "      <td>0.0</td>\n",
       "      <td>0.0</td>\n",
       "      <td>0.0</td>\n",
       "      <td>0.0</td>\n",
       "      <td>0.0</td>\n",
       "      <td>0.0</td>\n",
       "      <td>...</td>\n",
       "      <td>0.0</td>\n",
       "      <td>0.0</td>\n",
       "      <td>0.0</td>\n",
       "      <td>0.0</td>\n",
       "      <td>0.0</td>\n",
       "      <td>0.0</td>\n",
       "      <td>0.0</td>\n",
       "      <td>0.0</td>\n",
       "      <td>0.0</td>\n",
       "      <td>0.0</td>\n",
       "    </tr>\n",
       "    <tr>\n",
       "      <th>2</th>\n",
       "      <td>0</td>\n",
       "      <td>0.0</td>\n",
       "      <td>0.0</td>\n",
       "      <td>0.0</td>\n",
       "      <td>0.0</td>\n",
       "      <td>0.0</td>\n",
       "      <td>0.0</td>\n",
       "      <td>0.0</td>\n",
       "      <td>0.0</td>\n",
       "      <td>0.0</td>\n",
       "      <td>...</td>\n",
       "      <td>0.0</td>\n",
       "      <td>0.0</td>\n",
       "      <td>0.0</td>\n",
       "      <td>0.0</td>\n",
       "      <td>0.0</td>\n",
       "      <td>0.0</td>\n",
       "      <td>0.0</td>\n",
       "      <td>0.0</td>\n",
       "      <td>0.0</td>\n",
       "      <td>0.0</td>\n",
       "    </tr>\n",
       "    <tr>\n",
       "      <th>3</th>\n",
       "      <td>0</td>\n",
       "      <td>0.0</td>\n",
       "      <td>0.0</td>\n",
       "      <td>0.0</td>\n",
       "      <td>0.0</td>\n",
       "      <td>0.0</td>\n",
       "      <td>0.0</td>\n",
       "      <td>0.0</td>\n",
       "      <td>0.0</td>\n",
       "      <td>0.0</td>\n",
       "      <td>...</td>\n",
       "      <td>0.0</td>\n",
       "      <td>0.0</td>\n",
       "      <td>0.0</td>\n",
       "      <td>0.0</td>\n",
       "      <td>0.0</td>\n",
       "      <td>0.0</td>\n",
       "      <td>0.0</td>\n",
       "      <td>0.0</td>\n",
       "      <td>0.0</td>\n",
       "      <td>0.0</td>\n",
       "    </tr>\n",
       "    <tr>\n",
       "      <th>4</th>\n",
       "      <td>0</td>\n",
       "      <td>0.0</td>\n",
       "      <td>0.0</td>\n",
       "      <td>0.0</td>\n",
       "      <td>0.0</td>\n",
       "      <td>0.0</td>\n",
       "      <td>0.0</td>\n",
       "      <td>0.0</td>\n",
       "      <td>0.0</td>\n",
       "      <td>0.0</td>\n",
       "      <td>...</td>\n",
       "      <td>0.0</td>\n",
       "      <td>1.0</td>\n",
       "      <td>0.0</td>\n",
       "      <td>0.0</td>\n",
       "      <td>0.0</td>\n",
       "      <td>0.0</td>\n",
       "      <td>0.0</td>\n",
       "      <td>0.0</td>\n",
       "      <td>0.0</td>\n",
       "      <td>0.0</td>\n",
       "    </tr>\n",
       "    <tr>\n",
       "      <th>...</th>\n",
       "      <td>...</td>\n",
       "      <td>...</td>\n",
       "      <td>...</td>\n",
       "      <td>...</td>\n",
       "      <td>...</td>\n",
       "      <td>...</td>\n",
       "      <td>...</td>\n",
       "      <td>...</td>\n",
       "      <td>...</td>\n",
       "      <td>...</td>\n",
       "      <td>...</td>\n",
       "      <td>...</td>\n",
       "      <td>...</td>\n",
       "      <td>...</td>\n",
       "      <td>...</td>\n",
       "      <td>...</td>\n",
       "      <td>...</td>\n",
       "      <td>...</td>\n",
       "      <td>...</td>\n",
       "      <td>...</td>\n",
       "      <td>...</td>\n",
       "    </tr>\n",
       "    <tr>\n",
       "      <th>693587</th>\n",
       "      <td>0</td>\n",
       "      <td>0.0</td>\n",
       "      <td>0.0</td>\n",
       "      <td>0.0</td>\n",
       "      <td>0.0</td>\n",
       "      <td>0.0</td>\n",
       "      <td>0.0</td>\n",
       "      <td>0.0</td>\n",
       "      <td>0.0</td>\n",
       "      <td>0.0</td>\n",
       "      <td>...</td>\n",
       "      <td>0.0</td>\n",
       "      <td>0.0</td>\n",
       "      <td>1.0</td>\n",
       "      <td>0.0</td>\n",
       "      <td>0.0</td>\n",
       "      <td>0.0</td>\n",
       "      <td>0.0</td>\n",
       "      <td>0.0</td>\n",
       "      <td>0.0</td>\n",
       "      <td>0.0</td>\n",
       "    </tr>\n",
       "    <tr>\n",
       "      <th>693588</th>\n",
       "      <td>0</td>\n",
       "      <td>0.0</td>\n",
       "      <td>0.0</td>\n",
       "      <td>0.0</td>\n",
       "      <td>0.0</td>\n",
       "      <td>0.0</td>\n",
       "      <td>0.0</td>\n",
       "      <td>0.0</td>\n",
       "      <td>0.0</td>\n",
       "      <td>0.0</td>\n",
       "      <td>...</td>\n",
       "      <td>0.0</td>\n",
       "      <td>0.0</td>\n",
       "      <td>0.0</td>\n",
       "      <td>0.0</td>\n",
       "      <td>0.0</td>\n",
       "      <td>0.0</td>\n",
       "      <td>0.0</td>\n",
       "      <td>0.0</td>\n",
       "      <td>0.0</td>\n",
       "      <td>0.0</td>\n",
       "    </tr>\n",
       "    <tr>\n",
       "      <th>693589</th>\n",
       "      <td>0</td>\n",
       "      <td>0.0</td>\n",
       "      <td>0.0</td>\n",
       "      <td>0.0</td>\n",
       "      <td>0.0</td>\n",
       "      <td>0.0</td>\n",
       "      <td>0.0</td>\n",
       "      <td>0.0</td>\n",
       "      <td>0.0</td>\n",
       "      <td>0.0</td>\n",
       "      <td>...</td>\n",
       "      <td>0.0</td>\n",
       "      <td>0.0</td>\n",
       "      <td>0.0</td>\n",
       "      <td>0.0</td>\n",
       "      <td>0.0</td>\n",
       "      <td>0.0</td>\n",
       "      <td>0.0</td>\n",
       "      <td>0.0</td>\n",
       "      <td>0.0</td>\n",
       "      <td>0.0</td>\n",
       "    </tr>\n",
       "    <tr>\n",
       "      <th>693590</th>\n",
       "      <td>0</td>\n",
       "      <td>0.0</td>\n",
       "      <td>0.0</td>\n",
       "      <td>0.0</td>\n",
       "      <td>0.0</td>\n",
       "      <td>0.0</td>\n",
       "      <td>0.0</td>\n",
       "      <td>0.0</td>\n",
       "      <td>0.0</td>\n",
       "      <td>0.0</td>\n",
       "      <td>...</td>\n",
       "      <td>0.0</td>\n",
       "      <td>0.0</td>\n",
       "      <td>0.0</td>\n",
       "      <td>0.0</td>\n",
       "      <td>0.0</td>\n",
       "      <td>0.0</td>\n",
       "      <td>0.0</td>\n",
       "      <td>0.0</td>\n",
       "      <td>0.0</td>\n",
       "      <td>0.0</td>\n",
       "    </tr>\n",
       "    <tr>\n",
       "      <th>693591</th>\n",
       "      <td>1</td>\n",
       "      <td>0.0</td>\n",
       "      <td>0.0</td>\n",
       "      <td>0.0</td>\n",
       "      <td>0.0</td>\n",
       "      <td>0.0</td>\n",
       "      <td>0.0</td>\n",
       "      <td>0.0</td>\n",
       "      <td>0.0</td>\n",
       "      <td>0.0</td>\n",
       "      <td>...</td>\n",
       "      <td>0.0</td>\n",
       "      <td>0.0</td>\n",
       "      <td>0.0</td>\n",
       "      <td>0.0</td>\n",
       "      <td>0.0</td>\n",
       "      <td>0.0</td>\n",
       "      <td>0.0</td>\n",
       "      <td>0.0</td>\n",
       "      <td>0.0</td>\n",
       "      <td>0.0</td>\n",
       "    </tr>\n",
       "  </tbody>\n",
       "</table>\n",
       "<p>693592 rows × 119 columns</p>\n",
       "</div>"
      ],
      "text/plain": [
       "        activity_label  D001-CLOSED  D001-OPEN  D002-CLOSED  D002-OPEN  \\\n",
       "0                    0          0.0        0.0          0.0        0.0   \n",
       "1                    0          0.0        0.0          0.0        0.0   \n",
       "2                    0          0.0        0.0          0.0        0.0   \n",
       "3                    0          0.0        0.0          0.0        0.0   \n",
       "4                    0          0.0        0.0          0.0        0.0   \n",
       "...                ...          ...        ...          ...        ...   \n",
       "693587               0          0.0        0.0          0.0        0.0   \n",
       "693588               0          0.0        0.0          0.0        0.0   \n",
       "693589               0          0.0        0.0          0.0        0.0   \n",
       "693590               0          0.0        0.0          0.0        0.0   \n",
       "693591               1          0.0        0.0          0.0        0.0   \n",
       "\n",
       "        D004-CLOSED  D004-OPEN  M001-OFF  M001-ON  M002-OFF  ...  \\\n",
       "0               0.0        0.0       0.0      0.0       0.0  ...   \n",
       "1               0.0        0.0       0.0      0.0       0.0  ...   \n",
       "2               0.0        0.0       0.0      0.0       0.0  ...   \n",
       "3               0.0        0.0       0.0      0.0       0.0  ...   \n",
       "4               0.0        0.0       0.0      0.0       0.0  ...   \n",
       "...             ...        ...       ...      ...       ...  ...   \n",
       "693587          0.0        0.0       0.0      0.0       0.0  ...   \n",
       "693588          0.0        0.0       0.0      0.0       0.0  ...   \n",
       "693589          0.0        0.0       0.0      0.0       0.0  ...   \n",
       "693590          0.0        0.0       0.0      0.0       0.0  ...   \n",
       "693591          0.0        0.0       0.0      0.0       0.0  ...   \n",
       "\n",
       "        T005-15.97 - 18.70  T005-18.70 - 21.40  T005-21.40 - 24.10  \\\n",
       "0                      0.0                 0.0                 0.0   \n",
       "1                      0.0                 0.0                 0.0   \n",
       "2                      0.0                 0.0                 0.0   \n",
       "3                      0.0                 0.0                 0.0   \n",
       "4                      0.0                 1.0                 0.0   \n",
       "...                    ...                 ...                 ...   \n",
       "693587                 0.0                 0.0                 1.0   \n",
       "693588                 0.0                 0.0                 0.0   \n",
       "693589                 0.0                 0.0                 0.0   \n",
       "693590                 0.0                 0.0                 0.0   \n",
       "693591                 0.0                 0.0                 0.0   \n",
       "\n",
       "        T005-24.10 - 26.80  T005-26.80 - 29.50  T005-29.50 - 32.20  \\\n",
       "0                      0.0                 0.0                 0.0   \n",
       "1                      0.0                 0.0                 0.0   \n",
       "2                      0.0                 0.0                 0.0   \n",
       "3                      0.0                 0.0                 0.0   \n",
       "4                      0.0                 0.0                 0.0   \n",
       "...                    ...                 ...                 ...   \n",
       "693587                 0.0                 0.0                 0.0   \n",
       "693588                 0.0                 0.0                 0.0   \n",
       "693589                 0.0                 0.0                 0.0   \n",
       "693590                 0.0                 0.0                 0.0   \n",
       "693591                 0.0                 0.0                 0.0   \n",
       "\n",
       "        T005-32.20 - 34.90  T005-34.90 - 37.60  T005-37.60 - 40.30  \\\n",
       "0                      0.0                 0.0                 0.0   \n",
       "1                      0.0                 0.0                 0.0   \n",
       "2                      0.0                 0.0                 0.0   \n",
       "3                      0.0                 0.0                 0.0   \n",
       "4                      0.0                 0.0                 0.0   \n",
       "...                    ...                 ...                 ...   \n",
       "693587                 0.0                 0.0                 0.0   \n",
       "693588                 0.0                 0.0                 0.0   \n",
       "693589                 0.0                 0.0                 0.0   \n",
       "693590                 0.0                 0.0                 0.0   \n",
       "693591                 0.0                 0.0                 0.0   \n",
       "\n",
       "        T005-40.30 - 43.00  \n",
       "0                      0.0  \n",
       "1                      0.0  \n",
       "2                      0.0  \n",
       "3                      0.0  \n",
       "4                      0.0  \n",
       "...                    ...  \n",
       "693587                 0.0  \n",
       "693588                 0.0  \n",
       "693589                 0.0  \n",
       "693590                 0.0  \n",
       "693591                 0.0  \n",
       "\n",
       "[693592 rows x 119 columns]"
      ]
     },
     "execution_count": 3,
     "metadata": {},
     "output_type": "execute_result"
    }
   ],
   "source": [
    "main_data = pd.read_csv('sensor_readings.csv')\n",
    "\n",
    "main_data"
   ]
  },
  {
   "cell_type": "code",
   "execution_count": 4,
   "id": "2124401b",
   "metadata": {},
   "outputs": [
    {
     "data": {
      "text/plain": [
       "{'activity_encoder': {'Sleeping': 0,\n",
       "  'no_activity': 1,\n",
       "  'Bed_to_Toilet': 2,\n",
       "  'Meal_Preparation': 3,\n",
       "  'Relax': 4,\n",
       "  'Housekeeping': 5,\n",
       "  'Eating': 6,\n",
       "  'Wash_Dishes': 7,\n",
       "  'Leave_Home': 8,\n",
       "  'Enter_Home': 9,\n",
       "  'Work': 10,\n",
       "  'Respirate': 11},\n",
       " 'activity_decoder': {'0': 'Sleeping',\n",
       "  '1': 'no_activity',\n",
       "  '2': 'Bed_to_Toilet',\n",
       "  '3': 'Meal_Preparation',\n",
       "  '4': 'Relax',\n",
       "  '5': 'Housekeeping',\n",
       "  '6': 'Eating',\n",
       "  '7': 'Wash_Dishes',\n",
       "  '8': 'Leave_Home',\n",
       "  '9': 'Enter_Home',\n",
       "  '10': 'Work',\n",
       "  '11': 'Respirate'},\n",
       " 'columns': ['sampled_time',\n",
       "  'activity_label',\n",
       "  'D001-CLOSED',\n",
       "  'D001-OPEN',\n",
       "  'D002-CLOSED',\n",
       "  'D002-OPEN',\n",
       "  'D004-CLOSED',\n",
       "  'D004-OPEN',\n",
       "  'M001-OFF',\n",
       "  'M001-ON',\n",
       "  'M002-OFF',\n",
       "  'M002-ON',\n",
       "  'M003-OFF',\n",
       "  'M003-ON',\n",
       "  'M004-OFF',\n",
       "  'M004-ON',\n",
       "  'M005-OFF',\n",
       "  'M005-ON',\n",
       "  'M006-OFF',\n",
       "  'M006-ON',\n",
       "  'M007-OFF',\n",
       "  'M007-ON',\n",
       "  'M008-OFF',\n",
       "  'M008-ON',\n",
       "  'M009-OFF',\n",
       "  'M009-ON',\n",
       "  'M010-OFF',\n",
       "  'M010-ON',\n",
       "  'M011-OFF',\n",
       "  'M011-ON',\n",
       "  'M012-OFF',\n",
       "  'M012-ON',\n",
       "  'M013-OFF',\n",
       "  'M013-ON',\n",
       "  'M014-OFF',\n",
       "  'M014-ON',\n",
       "  'M015-OFF',\n",
       "  'M015-ON',\n",
       "  'M016-OFF',\n",
       "  'M016-ON',\n",
       "  'M017-OFF',\n",
       "  'M017-ON',\n",
       "  'M018-OFF',\n",
       "  'M018-ON',\n",
       "  'M019-OFF',\n",
       "  'M019-ON',\n",
       "  'M020-OFF',\n",
       "  'M020-ON',\n",
       "  'M021-OFF',\n",
       "  'M021-ON',\n",
       "  'M022-OFF',\n",
       "  'M022-ON',\n",
       "  'M023-OFF',\n",
       "  'M023-ON',\n",
       "  'M024-OFF',\n",
       "  'M024-ON',\n",
       "  'M025-OFF',\n",
       "  'M025-ON',\n",
       "  'M026-OFF',\n",
       "  'M026-ON',\n",
       "  'M027-OFF',\n",
       "  'M027-ON',\n",
       "  'M028-OFF',\n",
       "  'M028-ON',\n",
       "  'M029-OFF',\n",
       "  'M029-ON',\n",
       "  'M030-OFF',\n",
       "  'M030-ON',\n",
       "  'M031-OFF',\n",
       "  'M031-ON',\n",
       "  'T001-15.97 - 18.70',\n",
       "  'T001-18.70 - 21.40',\n",
       "  'T001-21.40 - 24.10',\n",
       "  'T001-24.10 - 26.80',\n",
       "  'T001-26.80 - 29.50',\n",
       "  'T001-29.50 - 32.20',\n",
       "  'T001-32.20 - 34.90',\n",
       "  'T001-34.90 - 37.60',\n",
       "  'T001-37.60 - 40.30',\n",
       "  'T001-40.30 - 43.00',\n",
       "  'T002-15.97 - 18.70',\n",
       "  'T002-18.70 - 21.40',\n",
       "  'T002-21.40 - 24.10',\n",
       "  'T002-24.10 - 26.80',\n",
       "  'T002-26.80 - 29.50',\n",
       "  'T002-29.50 - 32.20',\n",
       "  'T002-32.20 - 34.90',\n",
       "  'T002-34.90 - 37.60',\n",
       "  'T002-37.60 - 40.30',\n",
       "  'T002-40.30 - 43.00',\n",
       "  'T003-15.97 - 18.70',\n",
       "  'T003-18.70 - 21.40',\n",
       "  'T003-21.40 - 24.10',\n",
       "  'T003-24.10 - 26.80',\n",
       "  'T003-26.80 - 29.50',\n",
       "  'T003-29.50 - 32.20',\n",
       "  'T003-32.20 - 34.90',\n",
       "  'T003-34.90 - 37.60',\n",
       "  'T003-37.60 - 40.30',\n",
       "  'T003-40.30 - 43.00',\n",
       "  'T004-15.97 - 18.70',\n",
       "  'T004-18.70 - 21.40',\n",
       "  'T004-21.40 - 24.10',\n",
       "  'T004-24.10 - 26.80',\n",
       "  'T004-26.80 - 29.50',\n",
       "  'T004-29.50 - 32.20',\n",
       "  'T004-32.20 - 34.90',\n",
       "  'T004-34.90 - 37.60',\n",
       "  'T004-37.60 - 40.30',\n",
       "  'T004-40.30 - 43.00',\n",
       "  'T005-15.97 - 18.70',\n",
       "  'T005-18.70 - 21.40',\n",
       "  'T005-21.40 - 24.10',\n",
       "  'T005-24.10 - 26.80',\n",
       "  'T005-26.80 - 29.50',\n",
       "  'T005-29.50 - 32.20',\n",
       "  'T005-32.20 - 34.90',\n",
       "  'T005-34.90 - 37.60',\n",
       "  'T005-37.60 - 40.30',\n",
       "  'T005-40.30 - 43.00']}"
      ]
     },
     "execution_count": 4,
     "metadata": {},
     "output_type": "execute_result"
    }
   ],
   "source": [
    "with open(\"dataset_summary.json\") as f:\n",
    "    dataset_summary = json.load(f)\n",
    "\n",
    "dataset_summary"
   ]
  },
  {
   "cell_type": "code",
   "execution_count": 5,
   "id": "d37a9ab8",
   "metadata": {},
   "outputs": [
    {
     "data": {
      "text/html": [
       "<div>\n",
       "<style scoped>\n",
       "    .dataframe tbody tr th:only-of-type {\n",
       "        vertical-align: middle;\n",
       "    }\n",
       "\n",
       "    .dataframe tbody tr th {\n",
       "        vertical-align: top;\n",
       "    }\n",
       "\n",
       "    .dataframe thead th {\n",
       "        text-align: right;\n",
       "    }\n",
       "</style>\n",
       "<table border=\"1\" class=\"dataframe\">\n",
       "  <thead>\n",
       "    <tr style=\"text-align: right;\">\n",
       "      <th></th>\n",
       "      <th>activity_label</th>\n",
       "      <th>D001-CLOSED</th>\n",
       "      <th>D001-OPEN</th>\n",
       "      <th>D002-CLOSED</th>\n",
       "      <th>D002-OPEN</th>\n",
       "      <th>D004-CLOSED</th>\n",
       "      <th>D004-OPEN</th>\n",
       "      <th>M001-OFF</th>\n",
       "      <th>M001-ON</th>\n",
       "      <th>M002-OFF</th>\n",
       "      <th>...</th>\n",
       "      <th>T005-15.97 - 18.70</th>\n",
       "      <th>T005-18.70 - 21.40</th>\n",
       "      <th>T005-21.40 - 24.10</th>\n",
       "      <th>T005-24.10 - 26.80</th>\n",
       "      <th>T005-26.80 - 29.50</th>\n",
       "      <th>T005-29.50 - 32.20</th>\n",
       "      <th>T005-32.20 - 34.90</th>\n",
       "      <th>T005-34.90 - 37.60</th>\n",
       "      <th>T005-37.60 - 40.30</th>\n",
       "      <th>T005-40.30 - 43.00</th>\n",
       "    </tr>\n",
       "  </thead>\n",
       "  <tbody>\n",
       "    <tr>\n",
       "      <th>0</th>\n",
       "      <td>0</td>\n",
       "      <td>0.0</td>\n",
       "      <td>0.0</td>\n",
       "      <td>0.0</td>\n",
       "      <td>0.0</td>\n",
       "      <td>0.0</td>\n",
       "      <td>0.0</td>\n",
       "      <td>0.0</td>\n",
       "      <td>0.0</td>\n",
       "      <td>0.0</td>\n",
       "      <td>...</td>\n",
       "      <td>0.0</td>\n",
       "      <td>0.0</td>\n",
       "      <td>0.0</td>\n",
       "      <td>0.0</td>\n",
       "      <td>0.0</td>\n",
       "      <td>0.0</td>\n",
       "      <td>0.0</td>\n",
       "      <td>0.0</td>\n",
       "      <td>0.0</td>\n",
       "      <td>0.0</td>\n",
       "    </tr>\n",
       "    <tr>\n",
       "      <th>1</th>\n",
       "      <td>0</td>\n",
       "      <td>0.0</td>\n",
       "      <td>0.0</td>\n",
       "      <td>0.0</td>\n",
       "      <td>0.0</td>\n",
       "      <td>0.0</td>\n",
       "      <td>0.0</td>\n",
       "      <td>0.0</td>\n",
       "      <td>0.0</td>\n",
       "      <td>0.0</td>\n",
       "      <td>...</td>\n",
       "      <td>0.0</td>\n",
       "      <td>0.0</td>\n",
       "      <td>0.0</td>\n",
       "      <td>0.0</td>\n",
       "      <td>0.0</td>\n",
       "      <td>0.0</td>\n",
       "      <td>0.0</td>\n",
       "      <td>0.0</td>\n",
       "      <td>0.0</td>\n",
       "      <td>0.0</td>\n",
       "    </tr>\n",
       "    <tr>\n",
       "      <th>2</th>\n",
       "      <td>0</td>\n",
       "      <td>0.0</td>\n",
       "      <td>0.0</td>\n",
       "      <td>0.0</td>\n",
       "      <td>0.0</td>\n",
       "      <td>0.0</td>\n",
       "      <td>0.0</td>\n",
       "      <td>0.0</td>\n",
       "      <td>0.0</td>\n",
       "      <td>0.0</td>\n",
       "      <td>...</td>\n",
       "      <td>0.0</td>\n",
       "      <td>0.0</td>\n",
       "      <td>0.0</td>\n",
       "      <td>0.0</td>\n",
       "      <td>0.0</td>\n",
       "      <td>0.0</td>\n",
       "      <td>0.0</td>\n",
       "      <td>0.0</td>\n",
       "      <td>0.0</td>\n",
       "      <td>0.0</td>\n",
       "    </tr>\n",
       "    <tr>\n",
       "      <th>3</th>\n",
       "      <td>0</td>\n",
       "      <td>0.0</td>\n",
       "      <td>0.0</td>\n",
       "      <td>0.0</td>\n",
       "      <td>0.0</td>\n",
       "      <td>0.0</td>\n",
       "      <td>0.0</td>\n",
       "      <td>0.0</td>\n",
       "      <td>0.0</td>\n",
       "      <td>0.0</td>\n",
       "      <td>...</td>\n",
       "      <td>0.0</td>\n",
       "      <td>0.0</td>\n",
       "      <td>0.0</td>\n",
       "      <td>0.0</td>\n",
       "      <td>0.0</td>\n",
       "      <td>0.0</td>\n",
       "      <td>0.0</td>\n",
       "      <td>0.0</td>\n",
       "      <td>0.0</td>\n",
       "      <td>0.0</td>\n",
       "    </tr>\n",
       "    <tr>\n",
       "      <th>4</th>\n",
       "      <td>0</td>\n",
       "      <td>0.0</td>\n",
       "      <td>0.0</td>\n",
       "      <td>0.0</td>\n",
       "      <td>0.0</td>\n",
       "      <td>0.0</td>\n",
       "      <td>0.0</td>\n",
       "      <td>0.0</td>\n",
       "      <td>0.0</td>\n",
       "      <td>0.0</td>\n",
       "      <td>...</td>\n",
       "      <td>0.0</td>\n",
       "      <td>1.0</td>\n",
       "      <td>0.0</td>\n",
       "      <td>0.0</td>\n",
       "      <td>0.0</td>\n",
       "      <td>0.0</td>\n",
       "      <td>0.0</td>\n",
       "      <td>0.0</td>\n",
       "      <td>0.0</td>\n",
       "      <td>0.0</td>\n",
       "    </tr>\n",
       "    <tr>\n",
       "      <th>...</th>\n",
       "      <td>...</td>\n",
       "      <td>...</td>\n",
       "      <td>...</td>\n",
       "      <td>...</td>\n",
       "      <td>...</td>\n",
       "      <td>...</td>\n",
       "      <td>...</td>\n",
       "      <td>...</td>\n",
       "      <td>...</td>\n",
       "      <td>...</td>\n",
       "      <td>...</td>\n",
       "      <td>...</td>\n",
       "      <td>...</td>\n",
       "      <td>...</td>\n",
       "      <td>...</td>\n",
       "      <td>...</td>\n",
       "      <td>...</td>\n",
       "      <td>...</td>\n",
       "      <td>...</td>\n",
       "      <td>...</td>\n",
       "      <td>...</td>\n",
       "    </tr>\n",
       "    <tr>\n",
       "      <th>693587</th>\n",
       "      <td>0</td>\n",
       "      <td>0.0</td>\n",
       "      <td>0.0</td>\n",
       "      <td>0.0</td>\n",
       "      <td>0.0</td>\n",
       "      <td>0.0</td>\n",
       "      <td>0.0</td>\n",
       "      <td>0.0</td>\n",
       "      <td>0.0</td>\n",
       "      <td>0.0</td>\n",
       "      <td>...</td>\n",
       "      <td>0.0</td>\n",
       "      <td>0.0</td>\n",
       "      <td>1.0</td>\n",
       "      <td>0.0</td>\n",
       "      <td>0.0</td>\n",
       "      <td>0.0</td>\n",
       "      <td>0.0</td>\n",
       "      <td>0.0</td>\n",
       "      <td>0.0</td>\n",
       "      <td>0.0</td>\n",
       "    </tr>\n",
       "    <tr>\n",
       "      <th>693588</th>\n",
       "      <td>0</td>\n",
       "      <td>0.0</td>\n",
       "      <td>0.0</td>\n",
       "      <td>0.0</td>\n",
       "      <td>0.0</td>\n",
       "      <td>0.0</td>\n",
       "      <td>0.0</td>\n",
       "      <td>0.0</td>\n",
       "      <td>0.0</td>\n",
       "      <td>0.0</td>\n",
       "      <td>...</td>\n",
       "      <td>0.0</td>\n",
       "      <td>0.0</td>\n",
       "      <td>0.0</td>\n",
       "      <td>0.0</td>\n",
       "      <td>0.0</td>\n",
       "      <td>0.0</td>\n",
       "      <td>0.0</td>\n",
       "      <td>0.0</td>\n",
       "      <td>0.0</td>\n",
       "      <td>0.0</td>\n",
       "    </tr>\n",
       "    <tr>\n",
       "      <th>693589</th>\n",
       "      <td>0</td>\n",
       "      <td>0.0</td>\n",
       "      <td>0.0</td>\n",
       "      <td>0.0</td>\n",
       "      <td>0.0</td>\n",
       "      <td>0.0</td>\n",
       "      <td>0.0</td>\n",
       "      <td>0.0</td>\n",
       "      <td>0.0</td>\n",
       "      <td>0.0</td>\n",
       "      <td>...</td>\n",
       "      <td>0.0</td>\n",
       "      <td>0.0</td>\n",
       "      <td>0.0</td>\n",
       "      <td>0.0</td>\n",
       "      <td>0.0</td>\n",
       "      <td>0.0</td>\n",
       "      <td>0.0</td>\n",
       "      <td>0.0</td>\n",
       "      <td>0.0</td>\n",
       "      <td>0.0</td>\n",
       "    </tr>\n",
       "    <tr>\n",
       "      <th>693590</th>\n",
       "      <td>0</td>\n",
       "      <td>0.0</td>\n",
       "      <td>0.0</td>\n",
       "      <td>0.0</td>\n",
       "      <td>0.0</td>\n",
       "      <td>0.0</td>\n",
       "      <td>0.0</td>\n",
       "      <td>0.0</td>\n",
       "      <td>0.0</td>\n",
       "      <td>0.0</td>\n",
       "      <td>...</td>\n",
       "      <td>0.0</td>\n",
       "      <td>0.0</td>\n",
       "      <td>0.0</td>\n",
       "      <td>0.0</td>\n",
       "      <td>0.0</td>\n",
       "      <td>0.0</td>\n",
       "      <td>0.0</td>\n",
       "      <td>0.0</td>\n",
       "      <td>0.0</td>\n",
       "      <td>0.0</td>\n",
       "    </tr>\n",
       "    <tr>\n",
       "      <th>693591</th>\n",
       "      <td>1</td>\n",
       "      <td>0.0</td>\n",
       "      <td>0.0</td>\n",
       "      <td>0.0</td>\n",
       "      <td>0.0</td>\n",
       "      <td>0.0</td>\n",
       "      <td>0.0</td>\n",
       "      <td>0.0</td>\n",
       "      <td>0.0</td>\n",
       "      <td>0.0</td>\n",
       "      <td>...</td>\n",
       "      <td>0.0</td>\n",
       "      <td>0.0</td>\n",
       "      <td>0.0</td>\n",
       "      <td>0.0</td>\n",
       "      <td>0.0</td>\n",
       "      <td>0.0</td>\n",
       "      <td>0.0</td>\n",
       "      <td>0.0</td>\n",
       "      <td>0.0</td>\n",
       "      <td>0.0</td>\n",
       "    </tr>\n",
       "  </tbody>\n",
       "</table>\n",
       "<p>693592 rows × 119 columns</p>\n",
       "</div>"
      ],
      "text/plain": [
       "        activity_label  D001-CLOSED  D001-OPEN  D002-CLOSED  D002-OPEN  \\\n",
       "0                    0          0.0        0.0          0.0        0.0   \n",
       "1                    0          0.0        0.0          0.0        0.0   \n",
       "2                    0          0.0        0.0          0.0        0.0   \n",
       "3                    0          0.0        0.0          0.0        0.0   \n",
       "4                    0          0.0        0.0          0.0        0.0   \n",
       "...                ...          ...        ...          ...        ...   \n",
       "693587               0          0.0        0.0          0.0        0.0   \n",
       "693588               0          0.0        0.0          0.0        0.0   \n",
       "693589               0          0.0        0.0          0.0        0.0   \n",
       "693590               0          0.0        0.0          0.0        0.0   \n",
       "693591               1          0.0        0.0          0.0        0.0   \n",
       "\n",
       "        D004-CLOSED  D004-OPEN  M001-OFF  M001-ON  M002-OFF  ...  \\\n",
       "0               0.0        0.0       0.0      0.0       0.0  ...   \n",
       "1               0.0        0.0       0.0      0.0       0.0  ...   \n",
       "2               0.0        0.0       0.0      0.0       0.0  ...   \n",
       "3               0.0        0.0       0.0      0.0       0.0  ...   \n",
       "4               0.0        0.0       0.0      0.0       0.0  ...   \n",
       "...             ...        ...       ...      ...       ...  ...   \n",
       "693587          0.0        0.0       0.0      0.0       0.0  ...   \n",
       "693588          0.0        0.0       0.0      0.0       0.0  ...   \n",
       "693589          0.0        0.0       0.0      0.0       0.0  ...   \n",
       "693590          0.0        0.0       0.0      0.0       0.0  ...   \n",
       "693591          0.0        0.0       0.0      0.0       0.0  ...   \n",
       "\n",
       "        T005-15.97 - 18.70  T005-18.70 - 21.40  T005-21.40 - 24.10  \\\n",
       "0                      0.0                 0.0                 0.0   \n",
       "1                      0.0                 0.0                 0.0   \n",
       "2                      0.0                 0.0                 0.0   \n",
       "3                      0.0                 0.0                 0.0   \n",
       "4                      0.0                 1.0                 0.0   \n",
       "...                    ...                 ...                 ...   \n",
       "693587                 0.0                 0.0                 1.0   \n",
       "693588                 0.0                 0.0                 0.0   \n",
       "693589                 0.0                 0.0                 0.0   \n",
       "693590                 0.0                 0.0                 0.0   \n",
       "693591                 0.0                 0.0                 0.0   \n",
       "\n",
       "        T005-24.10 - 26.80  T005-26.80 - 29.50  T005-29.50 - 32.20  \\\n",
       "0                      0.0                 0.0                 0.0   \n",
       "1                      0.0                 0.0                 0.0   \n",
       "2                      0.0                 0.0                 0.0   \n",
       "3                      0.0                 0.0                 0.0   \n",
       "4                      0.0                 0.0                 0.0   \n",
       "...                    ...                 ...                 ...   \n",
       "693587                 0.0                 0.0                 0.0   \n",
       "693588                 0.0                 0.0                 0.0   \n",
       "693589                 0.0                 0.0                 0.0   \n",
       "693590                 0.0                 0.0                 0.0   \n",
       "693591                 0.0                 0.0                 0.0   \n",
       "\n",
       "        T005-32.20 - 34.90  T005-34.90 - 37.60  T005-37.60 - 40.30  \\\n",
       "0                      0.0                 0.0                 0.0   \n",
       "1                      0.0                 0.0                 0.0   \n",
       "2                      0.0                 0.0                 0.0   \n",
       "3                      0.0                 0.0                 0.0   \n",
       "4                      0.0                 0.0                 0.0   \n",
       "...                    ...                 ...                 ...   \n",
       "693587                 0.0                 0.0                 0.0   \n",
       "693588                 0.0                 0.0                 0.0   \n",
       "693589                 0.0                 0.0                 0.0   \n",
       "693590                 0.0                 0.0                 0.0   \n",
       "693591                 0.0                 0.0                 0.0   \n",
       "\n",
       "        T005-40.30 - 43.00  \n",
       "0                      0.0  \n",
       "1                      0.0  \n",
       "2                      0.0  \n",
       "3                      0.0  \n",
       "4                      0.0  \n",
       "...                    ...  \n",
       "693587                 0.0  \n",
       "693588                 0.0  \n",
       "693589                 0.0  \n",
       "693590                 0.0  \n",
       "693591                 0.0  \n",
       "\n",
       "[693592 rows x 119 columns]"
      ]
     },
     "execution_count": 5,
     "metadata": {},
     "output_type": "execute_result"
    }
   ],
   "source": [
    "# normalize the data\n",
    "from sklearn.preprocessing import MinMaxScaler\n",
    "\n",
    "# Initialize MinMaxScaler\n",
    "scaler = MinMaxScaler()\n",
    "\n",
    "data = main_data.copy()\n",
    "\n",
    "# Get column names for back-transforming scaled data into DataFrame\n",
    "column_names = [col for col in data.columns if col not in ['activity_label',  'sampled_time']]\n",
    "\n",
    "# Fit the scaler to the data\n",
    "data[column_names] = scaler.fit_transform(data[column_names])\n",
    "\n",
    "# data.to_csv('normalized_data.csv', index=False)\n",
    "\n",
    "data"
   ]
  },
  {
   "cell_type": "code",
   "execution_count": 6,
   "id": "eb7f6590",
   "metadata": {},
   "outputs": [],
   "source": [
    "X = data.drop(columns=['activity_label'])\n",
    "y = data['activity_label']"
   ]
  },
  {
   "cell_type": "code",
   "execution_count": 7,
   "id": "03dadeb8",
   "metadata": {},
   "outputs": [
    {
     "data": {
      "text/plain": [
       "((3197116, 118), (3197116,), (799280, 118), (799280,))"
      ]
     },
     "execution_count": 7,
     "metadata": {},
     "output_type": "execute_result"
    }
   ],
   "source": [
    "from imblearn.over_sampling import RandomOverSampler\n",
    "\n",
    "ros = RandomOverSampler(random_state=seed)\n",
    "oversampled_X, oversampled_Y = ros.fit_resample(X, y)\n",
    "\n",
    "# Split the oversampled data into training and testing sets\n",
    "X_train, X_test, y_train, y_test = train_test_split(oversampled_X, oversampled_Y, test_size=test_size, random_state=seed)\n",
    "\n",
    "X_train.shape, y_train.shape, X_test.shape, y_test.shape"
   ]
  },
  {
   "cell_type": "code",
   "execution_count": 8,
   "id": "bf221e8c",
   "metadata": {},
   "outputs": [
    {
     "data": {
      "text/html": [
       "<div>\n",
       "<style scoped>\n",
       "    .dataframe tbody tr th:only-of-type {\n",
       "        vertical-align: middle;\n",
       "    }\n",
       "\n",
       "    .dataframe tbody tr th {\n",
       "        vertical-align: top;\n",
       "    }\n",
       "\n",
       "    .dataframe thead th {\n",
       "        text-align: right;\n",
       "    }\n",
       "</style>\n",
       "<table border=\"1\" class=\"dataframe\">\n",
       "  <thead>\n",
       "    <tr style=\"text-align: right;\">\n",
       "      <th></th>\n",
       "      <th>D001-CLOSED</th>\n",
       "      <th>D001-OPEN</th>\n",
       "      <th>D002-CLOSED</th>\n",
       "      <th>D002-OPEN</th>\n",
       "      <th>D004-CLOSED</th>\n",
       "      <th>D004-OPEN</th>\n",
       "      <th>M001-OFF</th>\n",
       "      <th>M001-ON</th>\n",
       "      <th>M002-OFF</th>\n",
       "      <th>M002-ON</th>\n",
       "      <th>...</th>\n",
       "      <th>T005-15.97 - 18.70</th>\n",
       "      <th>T005-18.70 - 21.40</th>\n",
       "      <th>T005-21.40 - 24.10</th>\n",
       "      <th>T005-24.10 - 26.80</th>\n",
       "      <th>T005-26.80 - 29.50</th>\n",
       "      <th>T005-29.50 - 32.20</th>\n",
       "      <th>T005-32.20 - 34.90</th>\n",
       "      <th>T005-34.90 - 37.60</th>\n",
       "      <th>T005-37.60 - 40.30</th>\n",
       "      <th>T005-40.30 - 43.00</th>\n",
       "    </tr>\n",
       "  </thead>\n",
       "  <tbody>\n",
       "    <tr>\n",
       "      <th>0</th>\n",
       "      <td>0.0</td>\n",
       "      <td>0.0</td>\n",
       "      <td>0.0</td>\n",
       "      <td>0.0</td>\n",
       "      <td>0.0</td>\n",
       "      <td>0.0</td>\n",
       "      <td>0.0</td>\n",
       "      <td>0.0</td>\n",
       "      <td>0.0</td>\n",
       "      <td>0.0</td>\n",
       "      <td>...</td>\n",
       "      <td>0.0</td>\n",
       "      <td>0.0</td>\n",
       "      <td>0.0</td>\n",
       "      <td>0.0</td>\n",
       "      <td>0.0</td>\n",
       "      <td>0.0</td>\n",
       "      <td>0.0</td>\n",
       "      <td>0.0</td>\n",
       "      <td>0.0</td>\n",
       "      <td>0.0</td>\n",
       "    </tr>\n",
       "    <tr>\n",
       "      <th>1</th>\n",
       "      <td>0.0</td>\n",
       "      <td>0.0</td>\n",
       "      <td>0.0</td>\n",
       "      <td>0.0</td>\n",
       "      <td>0.0</td>\n",
       "      <td>0.0</td>\n",
       "      <td>0.0</td>\n",
       "      <td>0.0</td>\n",
       "      <td>0.0</td>\n",
       "      <td>0.0</td>\n",
       "      <td>...</td>\n",
       "      <td>0.0</td>\n",
       "      <td>0.0</td>\n",
       "      <td>0.0</td>\n",
       "      <td>0.0</td>\n",
       "      <td>0.0</td>\n",
       "      <td>0.0</td>\n",
       "      <td>0.0</td>\n",
       "      <td>0.0</td>\n",
       "      <td>0.0</td>\n",
       "      <td>0.0</td>\n",
       "    </tr>\n",
       "    <tr>\n",
       "      <th>2</th>\n",
       "      <td>0.0</td>\n",
       "      <td>0.0</td>\n",
       "      <td>0.0</td>\n",
       "      <td>0.0</td>\n",
       "      <td>0.0</td>\n",
       "      <td>0.0</td>\n",
       "      <td>0.0</td>\n",
       "      <td>0.0</td>\n",
       "      <td>0.0</td>\n",
       "      <td>0.0</td>\n",
       "      <td>...</td>\n",
       "      <td>0.0</td>\n",
       "      <td>0.0</td>\n",
       "      <td>0.0</td>\n",
       "      <td>0.0</td>\n",
       "      <td>0.0</td>\n",
       "      <td>0.0</td>\n",
       "      <td>0.0</td>\n",
       "      <td>0.0</td>\n",
       "      <td>0.0</td>\n",
       "      <td>0.0</td>\n",
       "    </tr>\n",
       "    <tr>\n",
       "      <th>3</th>\n",
       "      <td>0.0</td>\n",
       "      <td>0.0</td>\n",
       "      <td>0.0</td>\n",
       "      <td>0.0</td>\n",
       "      <td>0.0</td>\n",
       "      <td>0.0</td>\n",
       "      <td>0.0</td>\n",
       "      <td>0.0</td>\n",
       "      <td>0.0</td>\n",
       "      <td>0.0</td>\n",
       "      <td>...</td>\n",
       "      <td>0.0</td>\n",
       "      <td>0.0</td>\n",
       "      <td>0.0</td>\n",
       "      <td>0.0</td>\n",
       "      <td>0.0</td>\n",
       "      <td>0.0</td>\n",
       "      <td>0.0</td>\n",
       "      <td>0.0</td>\n",
       "      <td>0.0</td>\n",
       "      <td>0.0</td>\n",
       "    </tr>\n",
       "    <tr>\n",
       "      <th>4</th>\n",
       "      <td>0.0</td>\n",
       "      <td>0.0</td>\n",
       "      <td>0.0</td>\n",
       "      <td>0.0</td>\n",
       "      <td>0.0</td>\n",
       "      <td>0.0</td>\n",
       "      <td>0.0</td>\n",
       "      <td>0.0</td>\n",
       "      <td>0.0</td>\n",
       "      <td>0.0</td>\n",
       "      <td>...</td>\n",
       "      <td>0.0</td>\n",
       "      <td>1.0</td>\n",
       "      <td>0.0</td>\n",
       "      <td>0.0</td>\n",
       "      <td>0.0</td>\n",
       "      <td>0.0</td>\n",
       "      <td>0.0</td>\n",
       "      <td>0.0</td>\n",
       "      <td>0.0</td>\n",
       "      <td>0.0</td>\n",
       "    </tr>\n",
       "    <tr>\n",
       "      <th>...</th>\n",
       "      <td>...</td>\n",
       "      <td>...</td>\n",
       "      <td>...</td>\n",
       "      <td>...</td>\n",
       "      <td>...</td>\n",
       "      <td>...</td>\n",
       "      <td>...</td>\n",
       "      <td>...</td>\n",
       "      <td>...</td>\n",
       "      <td>...</td>\n",
       "      <td>...</td>\n",
       "      <td>...</td>\n",
       "      <td>...</td>\n",
       "      <td>...</td>\n",
       "      <td>...</td>\n",
       "      <td>...</td>\n",
       "      <td>...</td>\n",
       "      <td>...</td>\n",
       "      <td>...</td>\n",
       "      <td>...</td>\n",
       "      <td>...</td>\n",
       "    </tr>\n",
       "    <tr>\n",
       "      <th>3996391</th>\n",
       "      <td>0.0</td>\n",
       "      <td>0.0</td>\n",
       "      <td>0.0</td>\n",
       "      <td>0.0</td>\n",
       "      <td>0.0</td>\n",
       "      <td>0.0</td>\n",
       "      <td>0.0</td>\n",
       "      <td>0.0</td>\n",
       "      <td>0.0</td>\n",
       "      <td>0.0</td>\n",
       "      <td>...</td>\n",
       "      <td>0.0</td>\n",
       "      <td>0.0</td>\n",
       "      <td>0.0</td>\n",
       "      <td>0.0</td>\n",
       "      <td>0.0</td>\n",
       "      <td>0.0</td>\n",
       "      <td>0.0</td>\n",
       "      <td>0.0</td>\n",
       "      <td>0.0</td>\n",
       "      <td>0.0</td>\n",
       "    </tr>\n",
       "    <tr>\n",
       "      <th>3996392</th>\n",
       "      <td>0.0</td>\n",
       "      <td>0.0</td>\n",
       "      <td>0.0</td>\n",
       "      <td>0.0</td>\n",
       "      <td>0.0</td>\n",
       "      <td>0.0</td>\n",
       "      <td>0.0</td>\n",
       "      <td>0.0</td>\n",
       "      <td>0.0</td>\n",
       "      <td>0.0</td>\n",
       "      <td>...</td>\n",
       "      <td>0.0</td>\n",
       "      <td>0.0</td>\n",
       "      <td>0.0</td>\n",
       "      <td>0.0</td>\n",
       "      <td>0.0</td>\n",
       "      <td>0.0</td>\n",
       "      <td>0.0</td>\n",
       "      <td>0.0</td>\n",
       "      <td>0.0</td>\n",
       "      <td>0.0</td>\n",
       "    </tr>\n",
       "    <tr>\n",
       "      <th>3996393</th>\n",
       "      <td>0.0</td>\n",
       "      <td>0.0</td>\n",
       "      <td>0.0</td>\n",
       "      <td>0.0</td>\n",
       "      <td>0.0</td>\n",
       "      <td>0.0</td>\n",
       "      <td>0.0</td>\n",
       "      <td>0.0</td>\n",
       "      <td>0.0</td>\n",
       "      <td>0.0</td>\n",
       "      <td>...</td>\n",
       "      <td>0.0</td>\n",
       "      <td>0.0</td>\n",
       "      <td>0.0</td>\n",
       "      <td>0.0</td>\n",
       "      <td>0.0</td>\n",
       "      <td>0.0</td>\n",
       "      <td>0.0</td>\n",
       "      <td>0.0</td>\n",
       "      <td>0.0</td>\n",
       "      <td>0.0</td>\n",
       "    </tr>\n",
       "    <tr>\n",
       "      <th>3996394</th>\n",
       "      <td>0.0</td>\n",
       "      <td>0.0</td>\n",
       "      <td>0.0</td>\n",
       "      <td>0.0</td>\n",
       "      <td>0.0</td>\n",
       "      <td>0.0</td>\n",
       "      <td>0.0</td>\n",
       "      <td>0.0</td>\n",
       "      <td>0.0</td>\n",
       "      <td>0.0</td>\n",
       "      <td>...</td>\n",
       "      <td>0.0</td>\n",
       "      <td>0.0</td>\n",
       "      <td>0.0</td>\n",
       "      <td>0.0</td>\n",
       "      <td>0.0</td>\n",
       "      <td>0.0</td>\n",
       "      <td>0.0</td>\n",
       "      <td>0.0</td>\n",
       "      <td>0.0</td>\n",
       "      <td>0.0</td>\n",
       "    </tr>\n",
       "    <tr>\n",
       "      <th>3996395</th>\n",
       "      <td>0.0</td>\n",
       "      <td>0.0</td>\n",
       "      <td>0.0</td>\n",
       "      <td>0.0</td>\n",
       "      <td>0.0</td>\n",
       "      <td>0.0</td>\n",
       "      <td>0.0</td>\n",
       "      <td>0.0</td>\n",
       "      <td>0.0</td>\n",
       "      <td>0.0</td>\n",
       "      <td>...</td>\n",
       "      <td>0.0</td>\n",
       "      <td>0.0</td>\n",
       "      <td>0.0</td>\n",
       "      <td>0.0</td>\n",
       "      <td>0.0</td>\n",
       "      <td>0.0</td>\n",
       "      <td>0.0</td>\n",
       "      <td>0.0</td>\n",
       "      <td>0.0</td>\n",
       "      <td>0.0</td>\n",
       "    </tr>\n",
       "  </tbody>\n",
       "</table>\n",
       "<p>3996396 rows × 118 columns</p>\n",
       "</div>"
      ],
      "text/plain": [
       "         D001-CLOSED  D001-OPEN  D002-CLOSED  D002-OPEN  D004-CLOSED  \\\n",
       "0                0.0        0.0          0.0        0.0          0.0   \n",
       "1                0.0        0.0          0.0        0.0          0.0   \n",
       "2                0.0        0.0          0.0        0.0          0.0   \n",
       "3                0.0        0.0          0.0        0.0          0.0   \n",
       "4                0.0        0.0          0.0        0.0          0.0   \n",
       "...              ...        ...          ...        ...          ...   \n",
       "3996391          0.0        0.0          0.0        0.0          0.0   \n",
       "3996392          0.0        0.0          0.0        0.0          0.0   \n",
       "3996393          0.0        0.0          0.0        0.0          0.0   \n",
       "3996394          0.0        0.0          0.0        0.0          0.0   \n",
       "3996395          0.0        0.0          0.0        0.0          0.0   \n",
       "\n",
       "         D004-OPEN  M001-OFF  M001-ON  M002-OFF  M002-ON  ...  \\\n",
       "0              0.0       0.0      0.0       0.0      0.0  ...   \n",
       "1              0.0       0.0      0.0       0.0      0.0  ...   \n",
       "2              0.0       0.0      0.0       0.0      0.0  ...   \n",
       "3              0.0       0.0      0.0       0.0      0.0  ...   \n",
       "4              0.0       0.0      0.0       0.0      0.0  ...   \n",
       "...            ...       ...      ...       ...      ...  ...   \n",
       "3996391        0.0       0.0      0.0       0.0      0.0  ...   \n",
       "3996392        0.0       0.0      0.0       0.0      0.0  ...   \n",
       "3996393        0.0       0.0      0.0       0.0      0.0  ...   \n",
       "3996394        0.0       0.0      0.0       0.0      0.0  ...   \n",
       "3996395        0.0       0.0      0.0       0.0      0.0  ...   \n",
       "\n",
       "         T005-15.97 - 18.70  T005-18.70 - 21.40  T005-21.40 - 24.10  \\\n",
       "0                       0.0                 0.0                 0.0   \n",
       "1                       0.0                 0.0                 0.0   \n",
       "2                       0.0                 0.0                 0.0   \n",
       "3                       0.0                 0.0                 0.0   \n",
       "4                       0.0                 1.0                 0.0   \n",
       "...                     ...                 ...                 ...   \n",
       "3996391                 0.0                 0.0                 0.0   \n",
       "3996392                 0.0                 0.0                 0.0   \n",
       "3996393                 0.0                 0.0                 0.0   \n",
       "3996394                 0.0                 0.0                 0.0   \n",
       "3996395                 0.0                 0.0                 0.0   \n",
       "\n",
       "         T005-24.10 - 26.80  T005-26.80 - 29.50  T005-29.50 - 32.20  \\\n",
       "0                       0.0                 0.0                 0.0   \n",
       "1                       0.0                 0.0                 0.0   \n",
       "2                       0.0                 0.0                 0.0   \n",
       "3                       0.0                 0.0                 0.0   \n",
       "4                       0.0                 0.0                 0.0   \n",
       "...                     ...                 ...                 ...   \n",
       "3996391                 0.0                 0.0                 0.0   \n",
       "3996392                 0.0                 0.0                 0.0   \n",
       "3996393                 0.0                 0.0                 0.0   \n",
       "3996394                 0.0                 0.0                 0.0   \n",
       "3996395                 0.0                 0.0                 0.0   \n",
       "\n",
       "         T005-32.20 - 34.90  T005-34.90 - 37.60  T005-37.60 - 40.30  \\\n",
       "0                       0.0                 0.0                 0.0   \n",
       "1                       0.0                 0.0                 0.0   \n",
       "2                       0.0                 0.0                 0.0   \n",
       "3                       0.0                 0.0                 0.0   \n",
       "4                       0.0                 0.0                 0.0   \n",
       "...                     ...                 ...                 ...   \n",
       "3996391                 0.0                 0.0                 0.0   \n",
       "3996392                 0.0                 0.0                 0.0   \n",
       "3996393                 0.0                 0.0                 0.0   \n",
       "3996394                 0.0                 0.0                 0.0   \n",
       "3996395                 0.0                 0.0                 0.0   \n",
       "\n",
       "         T005-40.30 - 43.00  \n",
       "0                       0.0  \n",
       "1                       0.0  \n",
       "2                       0.0  \n",
       "3                       0.0  \n",
       "4                       0.0  \n",
       "...                     ...  \n",
       "3996391                 0.0  \n",
       "3996392                 0.0  \n",
       "3996393                 0.0  \n",
       "3996394                 0.0  \n",
       "3996395                 0.0  \n",
       "\n",
       "[3996396 rows x 118 columns]"
      ]
     },
     "execution_count": 8,
     "metadata": {},
     "output_type": "execute_result"
    }
   ],
   "source": [
    "oversampled_X"
   ]
  },
  {
   "cell_type": "code",
   "execution_count": 9,
   "id": "458bbb1f",
   "metadata": {},
   "outputs": [],
   "source": [
    "# from tsaug import AddNoise\n",
    "\n",
    "# # Convert DataFrame to NumPy arrays\n",
    "# X_np = X.to_numpy()\n",
    "# y_np = y.to_numpy()\n",
    "\n",
    "# # Oversample\n",
    "# ros = RandomOverSampler(random_state=seed)\n",
    "# oversampled_X, oversampled_Y = ros.fit_resample(X_np, y_np)\n",
    "\n",
    "# # AddNoise expects 2D or 3D array (n_samples, n_features[, time_steps])\n",
    "# # Here we assume (n_samples, n_features); no reshaping needed if it's 2D\n",
    "# augmenter = AddNoise(scale=0.05)\n",
    "\n",
    "# # Perform augmentation in batch\n",
    "# augmented_X = augmenter.augment(oversampled_X)\n",
    "\n",
    "# # Train-test split\n",
    "# X_train, X_test, y_train, y_test = train_test_split(\n",
    "#     augmented_X, oversampled_Y, test_size=test_size, random_state=seed\n",
    "# )\n",
    "\n",
    "# # Check shapes\n",
    "# X_train.shape, y_train.shape, X_test.shape, y_test.shape"
   ]
  },
  {
   "cell_type": "code",
   "execution_count": 10,
   "id": "c54acb61",
   "metadata": {},
   "outputs": [
    {
     "data": {
      "text/html": [
       "<div>\n",
       "<style scoped>\n",
       "    .dataframe tbody tr th:only-of-type {\n",
       "        vertical-align: middle;\n",
       "    }\n",
       "\n",
       "    .dataframe tbody tr th {\n",
       "        vertical-align: top;\n",
       "    }\n",
       "\n",
       "    .dataframe thead th {\n",
       "        text-align: right;\n",
       "    }\n",
       "</style>\n",
       "<table border=\"1\" class=\"dataframe\">\n",
       "  <thead>\n",
       "    <tr style=\"text-align: right;\">\n",
       "      <th></th>\n",
       "      <th>D001-CLOSED</th>\n",
       "      <th>D001-OPEN</th>\n",
       "      <th>D002-CLOSED</th>\n",
       "      <th>D002-OPEN</th>\n",
       "      <th>D004-CLOSED</th>\n",
       "      <th>D004-OPEN</th>\n",
       "      <th>M001-OFF</th>\n",
       "      <th>M001-ON</th>\n",
       "      <th>M002-OFF</th>\n",
       "      <th>M002-ON</th>\n",
       "      <th>...</th>\n",
       "      <th>T005-15.97 - 18.70</th>\n",
       "      <th>T005-18.70 - 21.40</th>\n",
       "      <th>T005-21.40 - 24.10</th>\n",
       "      <th>T005-24.10 - 26.80</th>\n",
       "      <th>T005-26.80 - 29.50</th>\n",
       "      <th>T005-29.50 - 32.20</th>\n",
       "      <th>T005-32.20 - 34.90</th>\n",
       "      <th>T005-34.90 - 37.60</th>\n",
       "      <th>T005-37.60 - 40.30</th>\n",
       "      <th>T005-40.30 - 43.00</th>\n",
       "    </tr>\n",
       "  </thead>\n",
       "  <tbody>\n",
       "    <tr>\n",
       "      <th>3265698</th>\n",
       "      <td>0.5</td>\n",
       "      <td>0.0</td>\n",
       "      <td>1.0</td>\n",
       "      <td>0.0</td>\n",
       "      <td>0.5</td>\n",
       "      <td>0.0</td>\n",
       "      <td>0.333333</td>\n",
       "      <td>0.0</td>\n",
       "      <td>0.333333</td>\n",
       "      <td>0.0</td>\n",
       "      <td>...</td>\n",
       "      <td>0.0</td>\n",
       "      <td>0.0</td>\n",
       "      <td>1.0</td>\n",
       "      <td>0.0</td>\n",
       "      <td>0.0</td>\n",
       "      <td>0.0</td>\n",
       "      <td>0.0</td>\n",
       "      <td>0.0</td>\n",
       "      <td>0.0</td>\n",
       "      <td>0.0</td>\n",
       "    </tr>\n",
       "    <tr>\n",
       "      <th>1756815</th>\n",
       "      <td>0.5</td>\n",
       "      <td>0.0</td>\n",
       "      <td>0.0</td>\n",
       "      <td>0.0</td>\n",
       "      <td>0.0</td>\n",
       "      <td>0.0</td>\n",
       "      <td>0.000000</td>\n",
       "      <td>0.0</td>\n",
       "      <td>0.000000</td>\n",
       "      <td>0.0</td>\n",
       "      <td>...</td>\n",
       "      <td>0.0</td>\n",
       "      <td>0.0</td>\n",
       "      <td>0.0</td>\n",
       "      <td>0.0</td>\n",
       "      <td>0.0</td>\n",
       "      <td>0.0</td>\n",
       "      <td>0.0</td>\n",
       "      <td>0.0</td>\n",
       "      <td>0.0</td>\n",
       "      <td>0.0</td>\n",
       "    </tr>\n",
       "    <tr>\n",
       "      <th>1940348</th>\n",
       "      <td>0.5</td>\n",
       "      <td>0.0</td>\n",
       "      <td>0.0</td>\n",
       "      <td>0.0</td>\n",
       "      <td>0.0</td>\n",
       "      <td>0.0</td>\n",
       "      <td>0.000000</td>\n",
       "      <td>0.0</td>\n",
       "      <td>0.000000</td>\n",
       "      <td>0.0</td>\n",
       "      <td>...</td>\n",
       "      <td>0.0</td>\n",
       "      <td>0.0</td>\n",
       "      <td>0.0</td>\n",
       "      <td>0.0</td>\n",
       "      <td>0.0</td>\n",
       "      <td>0.0</td>\n",
       "      <td>0.0</td>\n",
       "      <td>0.0</td>\n",
       "      <td>0.0</td>\n",
       "      <td>0.0</td>\n",
       "    </tr>\n",
       "    <tr>\n",
       "      <th>1901919</th>\n",
       "      <td>0.5</td>\n",
       "      <td>0.0</td>\n",
       "      <td>0.0</td>\n",
       "      <td>0.0</td>\n",
       "      <td>0.0</td>\n",
       "      <td>0.0</td>\n",
       "      <td>0.000000</td>\n",
       "      <td>0.0</td>\n",
       "      <td>0.000000</td>\n",
       "      <td>0.0</td>\n",
       "      <td>...</td>\n",
       "      <td>0.0</td>\n",
       "      <td>0.0</td>\n",
       "      <td>0.0</td>\n",
       "      <td>0.0</td>\n",
       "      <td>0.0</td>\n",
       "      <td>0.0</td>\n",
       "      <td>0.0</td>\n",
       "      <td>0.0</td>\n",
       "      <td>0.0</td>\n",
       "      <td>0.0</td>\n",
       "    </tr>\n",
       "    <tr>\n",
       "      <th>3149083</th>\n",
       "      <td>0.5</td>\n",
       "      <td>0.0</td>\n",
       "      <td>1.0</td>\n",
       "      <td>0.0</td>\n",
       "      <td>0.5</td>\n",
       "      <td>0.0</td>\n",
       "      <td>0.333333</td>\n",
       "      <td>0.0</td>\n",
       "      <td>0.333333</td>\n",
       "      <td>0.0</td>\n",
       "      <td>...</td>\n",
       "      <td>0.0</td>\n",
       "      <td>0.0</td>\n",
       "      <td>1.0</td>\n",
       "      <td>0.0</td>\n",
       "      <td>0.0</td>\n",
       "      <td>0.0</td>\n",
       "      <td>0.0</td>\n",
       "      <td>0.0</td>\n",
       "      <td>0.0</td>\n",
       "      <td>0.0</td>\n",
       "    </tr>\n",
       "    <tr>\n",
       "      <th>...</th>\n",
       "      <td>...</td>\n",
       "      <td>...</td>\n",
       "      <td>...</td>\n",
       "      <td>...</td>\n",
       "      <td>...</td>\n",
       "      <td>...</td>\n",
       "      <td>...</td>\n",
       "      <td>...</td>\n",
       "      <td>...</td>\n",
       "      <td>...</td>\n",
       "      <td>...</td>\n",
       "      <td>...</td>\n",
       "      <td>...</td>\n",
       "      <td>...</td>\n",
       "      <td>...</td>\n",
       "      <td>...</td>\n",
       "      <td>...</td>\n",
       "      <td>...</td>\n",
       "      <td>...</td>\n",
       "      <td>...</td>\n",
       "      <td>...</td>\n",
       "    </tr>\n",
       "    <tr>\n",
       "      <th>3198991</th>\n",
       "      <td>0.5</td>\n",
       "      <td>0.0</td>\n",
       "      <td>1.0</td>\n",
       "      <td>0.0</td>\n",
       "      <td>0.5</td>\n",
       "      <td>0.0</td>\n",
       "      <td>0.333333</td>\n",
       "      <td>0.0</td>\n",
       "      <td>0.333333</td>\n",
       "      <td>0.0</td>\n",
       "      <td>...</td>\n",
       "      <td>0.0</td>\n",
       "      <td>0.0</td>\n",
       "      <td>1.0</td>\n",
       "      <td>0.0</td>\n",
       "      <td>0.0</td>\n",
       "      <td>0.0</td>\n",
       "      <td>0.0</td>\n",
       "      <td>0.0</td>\n",
       "      <td>0.0</td>\n",
       "      <td>0.0</td>\n",
       "    </tr>\n",
       "    <tr>\n",
       "      <th>1839840</th>\n",
       "      <td>0.5</td>\n",
       "      <td>0.0</td>\n",
       "      <td>0.0</td>\n",
       "      <td>0.0</td>\n",
       "      <td>0.0</td>\n",
       "      <td>0.0</td>\n",
       "      <td>0.000000</td>\n",
       "      <td>0.0</td>\n",
       "      <td>0.000000</td>\n",
       "      <td>0.0</td>\n",
       "      <td>...</td>\n",
       "      <td>0.0</td>\n",
       "      <td>0.0</td>\n",
       "      <td>0.0</td>\n",
       "      <td>0.0</td>\n",
       "      <td>0.0</td>\n",
       "      <td>0.0</td>\n",
       "      <td>0.0</td>\n",
       "      <td>0.0</td>\n",
       "      <td>0.0</td>\n",
       "      <td>0.0</td>\n",
       "    </tr>\n",
       "    <tr>\n",
       "      <th>1782249</th>\n",
       "      <td>0.5</td>\n",
       "      <td>0.0</td>\n",
       "      <td>0.0</td>\n",
       "      <td>0.0</td>\n",
       "      <td>0.0</td>\n",
       "      <td>0.0</td>\n",
       "      <td>0.000000</td>\n",
       "      <td>0.0</td>\n",
       "      <td>0.000000</td>\n",
       "      <td>0.0</td>\n",
       "      <td>...</td>\n",
       "      <td>0.0</td>\n",
       "      <td>0.0</td>\n",
       "      <td>0.0</td>\n",
       "      <td>0.0</td>\n",
       "      <td>0.0</td>\n",
       "      <td>0.0</td>\n",
       "      <td>0.0</td>\n",
       "      <td>0.0</td>\n",
       "      <td>0.0</td>\n",
       "      <td>0.0</td>\n",
       "    </tr>\n",
       "    <tr>\n",
       "      <th>3100073</th>\n",
       "      <td>0.5</td>\n",
       "      <td>0.0</td>\n",
       "      <td>1.0</td>\n",
       "      <td>0.0</td>\n",
       "      <td>0.5</td>\n",
       "      <td>0.0</td>\n",
       "      <td>0.333333</td>\n",
       "      <td>0.0</td>\n",
       "      <td>0.333333</td>\n",
       "      <td>0.0</td>\n",
       "      <td>...</td>\n",
       "      <td>0.0</td>\n",
       "      <td>0.0</td>\n",
       "      <td>1.0</td>\n",
       "      <td>0.0</td>\n",
       "      <td>0.0</td>\n",
       "      <td>0.0</td>\n",
       "      <td>0.0</td>\n",
       "      <td>0.0</td>\n",
       "      <td>0.0</td>\n",
       "      <td>0.0</td>\n",
       "    </tr>\n",
       "    <tr>\n",
       "      <th>1760328</th>\n",
       "      <td>0.5</td>\n",
       "      <td>0.0</td>\n",
       "      <td>0.0</td>\n",
       "      <td>0.0</td>\n",
       "      <td>0.0</td>\n",
       "      <td>0.0</td>\n",
       "      <td>0.000000</td>\n",
       "      <td>0.0</td>\n",
       "      <td>0.000000</td>\n",
       "      <td>0.0</td>\n",
       "      <td>...</td>\n",
       "      <td>0.0</td>\n",
       "      <td>0.0</td>\n",
       "      <td>0.0</td>\n",
       "      <td>0.0</td>\n",
       "      <td>0.0</td>\n",
       "      <td>0.0</td>\n",
       "      <td>0.0</td>\n",
       "      <td>0.0</td>\n",
       "      <td>0.0</td>\n",
       "      <td>0.0</td>\n",
       "    </tr>\n",
       "  </tbody>\n",
       "</table>\n",
       "<p>1061 rows × 118 columns</p>\n",
       "</div>"
      ],
      "text/plain": [
       "         D001-CLOSED  D001-OPEN  D002-CLOSED  D002-OPEN  D004-CLOSED  \\\n",
       "3265698          0.5        0.0          1.0        0.0          0.5   \n",
       "1756815          0.5        0.0          0.0        0.0          0.0   \n",
       "1940348          0.5        0.0          0.0        0.0          0.0   \n",
       "1901919          0.5        0.0          0.0        0.0          0.0   \n",
       "3149083          0.5        0.0          1.0        0.0          0.5   \n",
       "...              ...        ...          ...        ...          ...   \n",
       "3198991          0.5        0.0          1.0        0.0          0.5   \n",
       "1839840          0.5        0.0          0.0        0.0          0.0   \n",
       "1782249          0.5        0.0          0.0        0.0          0.0   \n",
       "3100073          0.5        0.0          1.0        0.0          0.5   \n",
       "1760328          0.5        0.0          0.0        0.0          0.0   \n",
       "\n",
       "         D004-OPEN  M001-OFF  M001-ON  M002-OFF  M002-ON  ...  \\\n",
       "3265698        0.0  0.333333      0.0  0.333333      0.0  ...   \n",
       "1756815        0.0  0.000000      0.0  0.000000      0.0  ...   \n",
       "1940348        0.0  0.000000      0.0  0.000000      0.0  ...   \n",
       "1901919        0.0  0.000000      0.0  0.000000      0.0  ...   \n",
       "3149083        0.0  0.333333      0.0  0.333333      0.0  ...   \n",
       "...            ...       ...      ...       ...      ...  ...   \n",
       "3198991        0.0  0.333333      0.0  0.333333      0.0  ...   \n",
       "1839840        0.0  0.000000      0.0  0.000000      0.0  ...   \n",
       "1782249        0.0  0.000000      0.0  0.000000      0.0  ...   \n",
       "3100073        0.0  0.333333      0.0  0.333333      0.0  ...   \n",
       "1760328        0.0  0.000000      0.0  0.000000      0.0  ...   \n",
       "\n",
       "         T005-15.97 - 18.70  T005-18.70 - 21.40  T005-21.40 - 24.10  \\\n",
       "3265698                 0.0                 0.0                 1.0   \n",
       "1756815                 0.0                 0.0                 0.0   \n",
       "1940348                 0.0                 0.0                 0.0   \n",
       "1901919                 0.0                 0.0                 0.0   \n",
       "3149083                 0.0                 0.0                 1.0   \n",
       "...                     ...                 ...                 ...   \n",
       "3198991                 0.0                 0.0                 1.0   \n",
       "1839840                 0.0                 0.0                 0.0   \n",
       "1782249                 0.0                 0.0                 0.0   \n",
       "3100073                 0.0                 0.0                 1.0   \n",
       "1760328                 0.0                 0.0                 0.0   \n",
       "\n",
       "         T005-24.10 - 26.80  T005-26.80 - 29.50  T005-29.50 - 32.20  \\\n",
       "3265698                 0.0                 0.0                 0.0   \n",
       "1756815                 0.0                 0.0                 0.0   \n",
       "1940348                 0.0                 0.0                 0.0   \n",
       "1901919                 0.0                 0.0                 0.0   \n",
       "3149083                 0.0                 0.0                 0.0   \n",
       "...                     ...                 ...                 ...   \n",
       "3198991                 0.0                 0.0                 0.0   \n",
       "1839840                 0.0                 0.0                 0.0   \n",
       "1782249                 0.0                 0.0                 0.0   \n",
       "3100073                 0.0                 0.0                 0.0   \n",
       "1760328                 0.0                 0.0                 0.0   \n",
       "\n",
       "         T005-32.20 - 34.90  T005-34.90 - 37.60  T005-37.60 - 40.30  \\\n",
       "3265698                 0.0                 0.0                 0.0   \n",
       "1756815                 0.0                 0.0                 0.0   \n",
       "1940348                 0.0                 0.0                 0.0   \n",
       "1901919                 0.0                 0.0                 0.0   \n",
       "3149083                 0.0                 0.0                 0.0   \n",
       "...                     ...                 ...                 ...   \n",
       "3198991                 0.0                 0.0                 0.0   \n",
       "1839840                 0.0                 0.0                 0.0   \n",
       "1782249                 0.0                 0.0                 0.0   \n",
       "3100073                 0.0                 0.0                 0.0   \n",
       "1760328                 0.0                 0.0                 0.0   \n",
       "\n",
       "         T005-40.30 - 43.00  \n",
       "3265698                 0.0  \n",
       "1756815                 0.0  \n",
       "1940348                 0.0  \n",
       "1901919                 0.0  \n",
       "3149083                 0.0  \n",
       "...                     ...  \n",
       "3198991                 0.0  \n",
       "1839840                 0.0  \n",
       "1782249                 0.0  \n",
       "3100073                 0.0  \n",
       "1760328                 0.0  \n",
       "\n",
       "[1061 rows x 118 columns]"
      ]
     },
     "execution_count": 10,
     "metadata": {},
     "output_type": "execute_result"
    }
   ],
   "source": [
    "X_train[X_train[\"D001-CLOSED\"]>0]"
   ]
  },
  {
   "cell_type": "code",
   "execution_count": 11,
   "id": "d8c76402",
   "metadata": {},
   "outputs": [],
   "source": [
    "# # Scale training data and reformat as DataFrame with original column names\n",
    "# X_train = pd.DataFrame(scaler.fit_transform(X_train), columns=column_names)\n",
    "\n",
    "# # Scale testing data and reformat as DataFrame\n",
    "# X_test = pd.DataFrame(scaler.transform(X_test), columns=column_names)"
   ]
  },
  {
   "cell_type": "code",
   "execution_count": 12,
   "id": "3715ec62",
   "metadata": {},
   "outputs": [
    {
     "name": "stderr",
     "output_type": "stream",
     "text": [
      "/Users/crypticsy/anaconda3/envs/har/lib/python3.10/site-packages/xgboost/training.py:183: UserWarning: [23:35:34] WARNING: /Users/runner/work/xgboost/xgboost/src/learner.cc:738: \n",
      "Parameters: { \"use_label_encoder\" } are not used.\n",
      "\n",
      "  bst.update(dtrain, iteration=i, fobj=obj)\n"
     ]
    }
   ],
   "source": [
    "# from sklearn.neighbors import KNeighborsClassifier\n",
    "# model = KNeighborsClassifier(n_neighbors=len(activity_encoder), n_jobs=-1)\n",
    "\n",
    "# # from sklearn.tree import DecisionTreeClassifier\n",
    "# # model = DecisionTreeClassifier(random_state=seed)\n",
    "\n",
    "# from sklearn.ensemble import RandomForestClassifier\n",
    "# model = RandomForestClassifier(random_state=seed)\n",
    "\n",
    "# XGBoost\n",
    "from xgboost import XGBClassifier\n",
    "model = XGBClassifier(use_label_encoder=False, eval_metric='mlogloss', random_state=seed)\n",
    "\n",
    "# fit the model\n",
    "model.fit(X_train, y_train)\n",
    "\n",
    "# make predictions\n",
    "predictions = model.predict(X_test)\n",
    "\n",
    "confusion_matrix_values = confusion_matrix(y_test, predictions)\n",
    "classification_report_values = classification_report(y_test, predictions, output_dict=True)"
   ]
  },
  {
   "cell_type": "code",
   "execution_count": 13,
   "id": "db2ac5eb",
   "metadata": {},
   "outputs": [
    {
     "data": {
      "text/plain": [
       "['model.pkl']"
      ]
     },
     "execution_count": 13,
     "metadata": {},
     "output_type": "execute_result"
    }
   ],
   "source": [
    "# save the model\n",
    "import joblib\n",
    "joblib.dump(model, 'model.pkl')"
   ]
  },
  {
   "cell_type": "code",
   "execution_count": 14,
   "id": "f206e653",
   "metadata": {},
   "outputs": [
    {
     "data": {
      "application/vnd.plotly.v1+json": {
       "config": {
        "plotlyServerURL": "https://plot.ly"
       },
       "data": [
        {
         "coloraxis": "coloraxis",
         "hovertemplate": "Predicted: %{x}<br>True: %{y}<br>Count: %{z}<extra></extra>",
         "name": "0",
         "type": "heatmap",
         "x": [
          "Sleeping",
          "no_activity",
          "Bed_to_Toilet",
          "Meal_Preparation",
          "Relax",
          "Housekeeping",
          "Eating",
          "Wash_Dishes",
          "Leave_Home",
          "Enter_Home",
          "Work",
          "Respirate"
         ],
         "xaxis": "x",
         "y": [
          "Sleeping",
          "no_activity",
          "Bed_to_Toilet",
          "Meal_Preparation",
          "Relax",
          "Housekeeping",
          "Eating",
          "Wash_Dishes",
          "Leave_Home",
          "Enter_Home",
          "Work",
          "Respirate"
         ],
         "yaxis": "y",
         "z": {
          "bdata": "7F0+PnNt7T8WWwG5P/eSP5S8Pp+EPIk/9i4fn7k2RD96a3i7G2tnP6ukaDs26KQ/OJhR8vp8Uj8JTZskg7gjP7Mv4cFXmDw/QXv4oJ6NTz8AAAAAAAAAANkB5VYL9GQ/osMfR9HpsD9SBlzTSRfSPyRI78ycM7A/jp+jGHWbtj8/WmAUZ667P7eosRRgP8Y/D8RsGM0atD/dXoVyuN60PyOSil+YpII//VVVV3Vbhz9ZSJHtjJefP+zaca481nk/0/Q5umiMrz+8zEgNTG6aPwxjEWsfquw/AAAAAAAAAAAAAAAAAAAAAMURDz7ZGYw/AAAAAAAAAAAAAAAAAAAAAAAAAAAAAAAAAAAAAAAAAAAAAAAAAAAAAOr5euhDQGk/ldLwS3lwcz+7LapLjSOaP24EBlPNJkI/bV1Uulzj1z+BjdQTsVeAP29NItEZeJw/eU+AiXY4oj/UdmrjLKDgP9iQcLfRfVo/iMl5MJzIYT9AYY2k8exNPwjwNt2RnzM/gmKhIx8opj/lIYFMUx6iP10HAfrMdVA/xWEBTFQcdj/qqYzuoJ7qP5kEaVGUSbA/KPaB4IVifz8DVAGTNEBlP+EiAWwMLkI/8ZABNAoPST9odoHhg2Z3PwQbAXBDsGE/M1YaaobwlT+d9iDvqjLIP+LhP0dsrLE/zkkBuRJlsj/S4InPSaC2P/BtNbLjNNg/qxTpunu5tD/xOQnUYtWzP8CobdmHdns/MifHKBohbT/Kd1i07oGFP9bziEdnNGc/PLzva4Jrlz/5SD1n6cWTP6yKEPzEnjg/McqQnk/9mD8d5tID6iCMP//+Jr3aUaY/6K9bArkR6z9nGCNvwmucP1qSDNQatjI/vTsNMDeyMz85MBNsNo88P5Q/CxzivVA/cCCzzLkLYD+zcyrhfESSP3PN+ITLsic/PPTUS1rnyj9Ginzw+o9oP+7fHMHXwIo/p31gpER+oD8n/dANYfvmP2otYevQdlY/igB6mam/Qz9s2qaj4h1OP0Rn9lsPmT8/kkLReCRVcT9Wk65lhj6HPwAAAAAAAAAACz48VTnFVz8AAAAAAAAAAGSG0KZrB5I/9416m+2hgj8aXJKKDwdnP5tzv4tfyOk/sUJ6Rz3pwj8AAAAAAAAAAAAAAAAAAAAA5u7tAVOoUj+jUJbf9W90PwAAAAAAAAAAAAAAAAAAAAAAAAAAAAAAAAzUsN/8lG0/kU4K+z4vUT+RL7UPe5pVPxLdJUsjNbE/MhB2py127T8AAAAAAAAAAAAAAAAAAAAAtvd11uHWoD8SqMJA7bhaPyJCeJlAcEw/AAAAAAAAAABH6Tn/smRoP5dmB3YeyKE/5QakMuK9WT9d9kUM0qEyP4qXZBrdnBM/TVyQs37qUD9cni6tdQDsP8rFYSp8B6k/RIPpp8PijD8z/y/iJoBvPwAAAAAAAAAAAAAAAAAAAAAAAAAAAAAAAAAAAAAAAAAAAAAAAAAAAAAAAAAAAAAAAAAAAAAAAAAAAAAAAAAAAADXZHD9xTHAP74QIkuDYOs/",
          "dtype": "f8",
          "shape": "12, 12"
         }
        }
       ],
       "layout": {
        "coloraxis": {
         "colorbar": {
          "title": {
           "text": "Count"
          }
         },
         "colorscale": [
          [
           0,
           "#440154"
          ],
          [
           0.1111111111111111,
           "#482878"
          ],
          [
           0.2222222222222222,
           "#3e4989"
          ],
          [
           0.3333333333333333,
           "#31688e"
          ],
          [
           0.4444444444444444,
           "#26828e"
          ],
          [
           0.5555555555555556,
           "#1f9e89"
          ],
          [
           0.6666666666666666,
           "#35b779"
          ],
          [
           0.7777777777777778,
           "#6ece58"
          ],
          [
           0.8888888888888888,
           "#b5de2b"
          ],
          [
           1,
           "#fde725"
          ]
         ]
        },
        "height": 1200,
        "template": {
         "data": {
          "bar": [
           {
            "error_x": {
             "color": "#2a3f5f"
            },
            "error_y": {
             "color": "#2a3f5f"
            },
            "marker": {
             "line": {
              "color": "#E5ECF6",
              "width": 0.5
             },
             "pattern": {
              "fillmode": "overlay",
              "size": 10,
              "solidity": 0.2
             }
            },
            "type": "bar"
           }
          ],
          "barpolar": [
           {
            "marker": {
             "line": {
              "color": "#E5ECF6",
              "width": 0.5
             },
             "pattern": {
              "fillmode": "overlay",
              "size": 10,
              "solidity": 0.2
             }
            },
            "type": "barpolar"
           }
          ],
          "carpet": [
           {
            "aaxis": {
             "endlinecolor": "#2a3f5f",
             "gridcolor": "white",
             "linecolor": "white",
             "minorgridcolor": "white",
             "startlinecolor": "#2a3f5f"
            },
            "baxis": {
             "endlinecolor": "#2a3f5f",
             "gridcolor": "white",
             "linecolor": "white",
             "minorgridcolor": "white",
             "startlinecolor": "#2a3f5f"
            },
            "type": "carpet"
           }
          ],
          "choropleth": [
           {
            "colorbar": {
             "outlinewidth": 0,
             "ticks": ""
            },
            "type": "choropleth"
           }
          ],
          "contour": [
           {
            "colorbar": {
             "outlinewidth": 0,
             "ticks": ""
            },
            "colorscale": [
             [
              0,
              "#0d0887"
             ],
             [
              0.1111111111111111,
              "#46039f"
             ],
             [
              0.2222222222222222,
              "#7201a8"
             ],
             [
              0.3333333333333333,
              "#9c179e"
             ],
             [
              0.4444444444444444,
              "#bd3786"
             ],
             [
              0.5555555555555556,
              "#d8576b"
             ],
             [
              0.6666666666666666,
              "#ed7953"
             ],
             [
              0.7777777777777778,
              "#fb9f3a"
             ],
             [
              0.8888888888888888,
              "#fdca26"
             ],
             [
              1,
              "#f0f921"
             ]
            ],
            "type": "contour"
           }
          ],
          "contourcarpet": [
           {
            "colorbar": {
             "outlinewidth": 0,
             "ticks": ""
            },
            "type": "contourcarpet"
           }
          ],
          "heatmap": [
           {
            "colorbar": {
             "outlinewidth": 0,
             "ticks": ""
            },
            "colorscale": [
             [
              0,
              "#0d0887"
             ],
             [
              0.1111111111111111,
              "#46039f"
             ],
             [
              0.2222222222222222,
              "#7201a8"
             ],
             [
              0.3333333333333333,
              "#9c179e"
             ],
             [
              0.4444444444444444,
              "#bd3786"
             ],
             [
              0.5555555555555556,
              "#d8576b"
             ],
             [
              0.6666666666666666,
              "#ed7953"
             ],
             [
              0.7777777777777778,
              "#fb9f3a"
             ],
             [
              0.8888888888888888,
              "#fdca26"
             ],
             [
              1,
              "#f0f921"
             ]
            ],
            "type": "heatmap"
           }
          ],
          "histogram": [
           {
            "marker": {
             "pattern": {
              "fillmode": "overlay",
              "size": 10,
              "solidity": 0.2
             }
            },
            "type": "histogram"
           }
          ],
          "histogram2d": [
           {
            "colorbar": {
             "outlinewidth": 0,
             "ticks": ""
            },
            "colorscale": [
             [
              0,
              "#0d0887"
             ],
             [
              0.1111111111111111,
              "#46039f"
             ],
             [
              0.2222222222222222,
              "#7201a8"
             ],
             [
              0.3333333333333333,
              "#9c179e"
             ],
             [
              0.4444444444444444,
              "#bd3786"
             ],
             [
              0.5555555555555556,
              "#d8576b"
             ],
             [
              0.6666666666666666,
              "#ed7953"
             ],
             [
              0.7777777777777778,
              "#fb9f3a"
             ],
             [
              0.8888888888888888,
              "#fdca26"
             ],
             [
              1,
              "#f0f921"
             ]
            ],
            "type": "histogram2d"
           }
          ],
          "histogram2dcontour": [
           {
            "colorbar": {
             "outlinewidth": 0,
             "ticks": ""
            },
            "colorscale": [
             [
              0,
              "#0d0887"
             ],
             [
              0.1111111111111111,
              "#46039f"
             ],
             [
              0.2222222222222222,
              "#7201a8"
             ],
             [
              0.3333333333333333,
              "#9c179e"
             ],
             [
              0.4444444444444444,
              "#bd3786"
             ],
             [
              0.5555555555555556,
              "#d8576b"
             ],
             [
              0.6666666666666666,
              "#ed7953"
             ],
             [
              0.7777777777777778,
              "#fb9f3a"
             ],
             [
              0.8888888888888888,
              "#fdca26"
             ],
             [
              1,
              "#f0f921"
             ]
            ],
            "type": "histogram2dcontour"
           }
          ],
          "mesh3d": [
           {
            "colorbar": {
             "outlinewidth": 0,
             "ticks": ""
            },
            "type": "mesh3d"
           }
          ],
          "parcoords": [
           {
            "line": {
             "colorbar": {
              "outlinewidth": 0,
              "ticks": ""
             }
            },
            "type": "parcoords"
           }
          ],
          "pie": [
           {
            "automargin": true,
            "type": "pie"
           }
          ],
          "scatter": [
           {
            "fillpattern": {
             "fillmode": "overlay",
             "size": 10,
             "solidity": 0.2
            },
            "type": "scatter"
           }
          ],
          "scatter3d": [
           {
            "line": {
             "colorbar": {
              "outlinewidth": 0,
              "ticks": ""
             }
            },
            "marker": {
             "colorbar": {
              "outlinewidth": 0,
              "ticks": ""
             }
            },
            "type": "scatter3d"
           }
          ],
          "scattercarpet": [
           {
            "marker": {
             "colorbar": {
              "outlinewidth": 0,
              "ticks": ""
             }
            },
            "type": "scattercarpet"
           }
          ],
          "scattergeo": [
           {
            "marker": {
             "colorbar": {
              "outlinewidth": 0,
              "ticks": ""
             }
            },
            "type": "scattergeo"
           }
          ],
          "scattergl": [
           {
            "marker": {
             "colorbar": {
              "outlinewidth": 0,
              "ticks": ""
             }
            },
            "type": "scattergl"
           }
          ],
          "scattermap": [
           {
            "marker": {
             "colorbar": {
              "outlinewidth": 0,
              "ticks": ""
             }
            },
            "type": "scattermap"
           }
          ],
          "scattermapbox": [
           {
            "marker": {
             "colorbar": {
              "outlinewidth": 0,
              "ticks": ""
             }
            },
            "type": "scattermapbox"
           }
          ],
          "scatterpolar": [
           {
            "marker": {
             "colorbar": {
              "outlinewidth": 0,
              "ticks": ""
             }
            },
            "type": "scatterpolar"
           }
          ],
          "scatterpolargl": [
           {
            "marker": {
             "colorbar": {
              "outlinewidth": 0,
              "ticks": ""
             }
            },
            "type": "scatterpolargl"
           }
          ],
          "scatterternary": [
           {
            "marker": {
             "colorbar": {
              "outlinewidth": 0,
              "ticks": ""
             }
            },
            "type": "scatterternary"
           }
          ],
          "surface": [
           {
            "colorbar": {
             "outlinewidth": 0,
             "ticks": ""
            },
            "colorscale": [
             [
              0,
              "#0d0887"
             ],
             [
              0.1111111111111111,
              "#46039f"
             ],
             [
              0.2222222222222222,
              "#7201a8"
             ],
             [
              0.3333333333333333,
              "#9c179e"
             ],
             [
              0.4444444444444444,
              "#bd3786"
             ],
             [
              0.5555555555555556,
              "#d8576b"
             ],
             [
              0.6666666666666666,
              "#ed7953"
             ],
             [
              0.7777777777777778,
              "#fb9f3a"
             ],
             [
              0.8888888888888888,
              "#fdca26"
             ],
             [
              1,
              "#f0f921"
             ]
            ],
            "type": "surface"
           }
          ],
          "table": [
           {
            "cells": {
             "fill": {
              "color": "#EBF0F8"
             },
             "line": {
              "color": "white"
             }
            },
            "header": {
             "fill": {
              "color": "#C8D4E3"
             },
             "line": {
              "color": "white"
             }
            },
            "type": "table"
           }
          ]
         },
         "layout": {
          "annotationdefaults": {
           "arrowcolor": "#2a3f5f",
           "arrowhead": 0,
           "arrowwidth": 1
          },
          "autotypenumbers": "strict",
          "coloraxis": {
           "colorbar": {
            "outlinewidth": 0,
            "ticks": ""
           }
          },
          "colorscale": {
           "diverging": [
            [
             0,
             "#8e0152"
            ],
            [
             0.1,
             "#c51b7d"
            ],
            [
             0.2,
             "#de77ae"
            ],
            [
             0.3,
             "#f1b6da"
            ],
            [
             0.4,
             "#fde0ef"
            ],
            [
             0.5,
             "#f7f7f7"
            ],
            [
             0.6,
             "#e6f5d0"
            ],
            [
             0.7,
             "#b8e186"
            ],
            [
             0.8,
             "#7fbc41"
            ],
            [
             0.9,
             "#4d9221"
            ],
            [
             1,
             "#276419"
            ]
           ],
           "sequential": [
            [
             0,
             "#0d0887"
            ],
            [
             0.1111111111111111,
             "#46039f"
            ],
            [
             0.2222222222222222,
             "#7201a8"
            ],
            [
             0.3333333333333333,
             "#9c179e"
            ],
            [
             0.4444444444444444,
             "#bd3786"
            ],
            [
             0.5555555555555556,
             "#d8576b"
            ],
            [
             0.6666666666666666,
             "#ed7953"
            ],
            [
             0.7777777777777778,
             "#fb9f3a"
            ],
            [
             0.8888888888888888,
             "#fdca26"
            ],
            [
             1,
             "#f0f921"
            ]
           ],
           "sequentialminus": [
            [
             0,
             "#0d0887"
            ],
            [
             0.1111111111111111,
             "#46039f"
            ],
            [
             0.2222222222222222,
             "#7201a8"
            ],
            [
             0.3333333333333333,
             "#9c179e"
            ],
            [
             0.4444444444444444,
             "#bd3786"
            ],
            [
             0.5555555555555556,
             "#d8576b"
            ],
            [
             0.6666666666666666,
             "#ed7953"
            ],
            [
             0.7777777777777778,
             "#fb9f3a"
            ],
            [
             0.8888888888888888,
             "#fdca26"
            ],
            [
             1,
             "#f0f921"
            ]
           ]
          },
          "colorway": [
           "#636efa",
           "#EF553B",
           "#00cc96",
           "#ab63fa",
           "#FFA15A",
           "#19d3f3",
           "#FF6692",
           "#B6E880",
           "#FF97FF",
           "#FECB52"
          ],
          "font": {
           "color": "#2a3f5f"
          },
          "geo": {
           "bgcolor": "white",
           "lakecolor": "white",
           "landcolor": "#E5ECF6",
           "showlakes": true,
           "showland": true,
           "subunitcolor": "white"
          },
          "hoverlabel": {
           "align": "left"
          },
          "hovermode": "closest",
          "mapbox": {
           "style": "light"
          },
          "paper_bgcolor": "white",
          "plot_bgcolor": "#E5ECF6",
          "polar": {
           "angularaxis": {
            "gridcolor": "white",
            "linecolor": "white",
            "ticks": ""
           },
           "bgcolor": "#E5ECF6",
           "radialaxis": {
            "gridcolor": "white",
            "linecolor": "white",
            "ticks": ""
           }
          },
          "scene": {
           "xaxis": {
            "backgroundcolor": "#E5ECF6",
            "gridcolor": "white",
            "gridwidth": 2,
            "linecolor": "white",
            "showbackground": true,
            "ticks": "",
            "zerolinecolor": "white"
           },
           "yaxis": {
            "backgroundcolor": "#E5ECF6",
            "gridcolor": "white",
            "gridwidth": 2,
            "linecolor": "white",
            "showbackground": true,
            "ticks": "",
            "zerolinecolor": "white"
           },
           "zaxis": {
            "backgroundcolor": "#E5ECF6",
            "gridcolor": "white",
            "gridwidth": 2,
            "linecolor": "white",
            "showbackground": true,
            "ticks": "",
            "zerolinecolor": "white"
           }
          },
          "shapedefaults": {
           "line": {
            "color": "#2a3f5f"
           }
          },
          "ternary": {
           "aaxis": {
            "gridcolor": "white",
            "linecolor": "white",
            "ticks": ""
           },
           "baxis": {
            "gridcolor": "white",
            "linecolor": "white",
            "ticks": ""
           },
           "bgcolor": "#E5ECF6",
           "caxis": {
            "gridcolor": "white",
            "linecolor": "white",
            "ticks": ""
           }
          },
          "title": {
           "x": 0.05
          },
          "xaxis": {
           "automargin": true,
           "gridcolor": "white",
           "linecolor": "white",
           "ticks": "",
           "title": {
            "standoff": 15
           },
           "zerolinecolor": "white",
           "zerolinewidth": 2
          },
          "yaxis": {
           "automargin": true,
           "gridcolor": "white",
           "linecolor": "white",
           "ticks": "",
           "title": {
            "standoff": 15
           },
           "zerolinecolor": "white",
           "zerolinewidth": 2
          }
         }
        },
        "title": {
         "text": "Confusion Matrix"
        },
        "width": 800,
        "xaxis": {
         "anchor": "y",
         "constrain": "domain",
         "domain": [
          0,
          1
         ],
         "scaleanchor": "y",
         "side": "top",
         "title": {
          "text": "Predicted"
         }
        },
        "yaxis": {
         "anchor": "x",
         "autorange": "reversed",
         "constrain": "domain",
         "domain": [
          0,
          1
         ],
         "title": {
          "text": "True"
         }
        }
       }
      }
     },
     "metadata": {},
     "output_type": "display_data"
    }
   ],
   "source": [
    "# normalize confusion matrix\n",
    "df_ = confusion_matrix_values.astype('float') / confusion_matrix_values.sum(axis=1)[:, np.newaxis]\n",
    "\n",
    "fig = px.imshow(df_, \n",
    "                x=list(dataset_summary[\"activity_encoder\"].keys()), \n",
    "                y=list(dataset_summary[\"activity_encoder\"].keys()),\n",
    "                color_continuous_scale='Viridis',\n",
    "                title='Confusion Matrix',\n",
    "                width=800,\n",
    "                height=1200,\n",
    "                labels=dict(x=\"Predicted\", y=\"True\", color=\"Count\"))\n",
    "fig.update_xaxes(side=\"top\")\n",
    "fig.show()"
   ]
  },
  {
   "cell_type": "code",
   "execution_count": 15,
   "id": "88ecc96f",
   "metadata": {},
   "outputs": [
    {
     "data": {
      "application/vnd.plotly.v1+json": {
       "config": {
        "plotlyServerURL": "https://plot.ly"
       },
       "data": [
        {
         "cells": {
          "align": "left",
          "fill": {
           "color": "lavender"
          },
          "values": [
           [
            "Sleeping",
            "no_activity",
            "Bed_to_Toilet",
            "Meal_Preparation",
            "Relax",
            "Housekeeping",
            "Eating",
            "Wash_Dishes",
            "Leave_Home",
            "Enter_Home",
            "Work",
            "Respirate",
            "---- accuracy",
            "---- macro avg",
            "---- weighted avg"
           ],
           [
            0.7695048408012187,
            0.4460457107814232,
            0.8589075883441656,
            0.4824203254706941,
            0.7856596612473801,
            0.4652408399280909,
            0.7732767383719333,
            0.5002308790193939,
            0.9014406005884144,
            0.8462449558594665,
            0.8330959029004502,
            0.9265217815661906,
            0.7251050945851266,
            0.7157158187399019,
            0.7156777474773971
           ],
           [
            0.9196106162734714,
            0.2826714099938715,
            0.8957669345064416,
            0.3732520885109441,
            0.8318638476533213,
            0.3782281151122495,
            0.8459134145791696,
            0.7181859273768268,
            0.8057096223306986,
            0.9206760664678824,
            0.8750561125243155,
            0.8555313556139692,
            0.7251050945851266,
            0.7252054592452635,
            0.7251050945851266
           ],
           [
            0.8378880412357002,
            0.34604475836703324,
            0.8769501208525599,
            0.4208722662547585,
            0.808101848479993,
            0.41724633706483166,
            0.807965840180846,
            0.5897140877655297,
            0.8508909832337145,
            0.8818928151103712,
            0.8535606381270707,
            0.8896125701879749,
            0.7251050945851266,
            0.7150616922383652,
            0.7149934561509059
           ],
           [
            66464,
            66901,
            66831,
            66794,
            66690,
            66370,
            66547,
            66370,
            66169,
            66739,
            66830,
            66575,
            0.7251050945851266,
            799280,
            799280
           ]
          ]
         },
         "header": {
          "align": "left",
          "fill": {
           "color": "paleturquoise"
          },
          "values": [
           "activity",
           "precision",
           "recall",
           "f1-score",
           "support"
          ]
         },
         "type": "table"
        }
       ],
       "layout": {
        "autosize": false,
        "height": 600,
        "template": {
         "data": {
          "bar": [
           {
            "error_x": {
             "color": "#2a3f5f"
            },
            "error_y": {
             "color": "#2a3f5f"
            },
            "marker": {
             "line": {
              "color": "#E5ECF6",
              "width": 0.5
             },
             "pattern": {
              "fillmode": "overlay",
              "size": 10,
              "solidity": 0.2
             }
            },
            "type": "bar"
           }
          ],
          "barpolar": [
           {
            "marker": {
             "line": {
              "color": "#E5ECF6",
              "width": 0.5
             },
             "pattern": {
              "fillmode": "overlay",
              "size": 10,
              "solidity": 0.2
             }
            },
            "type": "barpolar"
           }
          ],
          "carpet": [
           {
            "aaxis": {
             "endlinecolor": "#2a3f5f",
             "gridcolor": "white",
             "linecolor": "white",
             "minorgridcolor": "white",
             "startlinecolor": "#2a3f5f"
            },
            "baxis": {
             "endlinecolor": "#2a3f5f",
             "gridcolor": "white",
             "linecolor": "white",
             "minorgridcolor": "white",
             "startlinecolor": "#2a3f5f"
            },
            "type": "carpet"
           }
          ],
          "choropleth": [
           {
            "colorbar": {
             "outlinewidth": 0,
             "ticks": ""
            },
            "type": "choropleth"
           }
          ],
          "contour": [
           {
            "colorbar": {
             "outlinewidth": 0,
             "ticks": ""
            },
            "colorscale": [
             [
              0,
              "#0d0887"
             ],
             [
              0.1111111111111111,
              "#46039f"
             ],
             [
              0.2222222222222222,
              "#7201a8"
             ],
             [
              0.3333333333333333,
              "#9c179e"
             ],
             [
              0.4444444444444444,
              "#bd3786"
             ],
             [
              0.5555555555555556,
              "#d8576b"
             ],
             [
              0.6666666666666666,
              "#ed7953"
             ],
             [
              0.7777777777777778,
              "#fb9f3a"
             ],
             [
              0.8888888888888888,
              "#fdca26"
             ],
             [
              1,
              "#f0f921"
             ]
            ],
            "type": "contour"
           }
          ],
          "contourcarpet": [
           {
            "colorbar": {
             "outlinewidth": 0,
             "ticks": ""
            },
            "type": "contourcarpet"
           }
          ],
          "heatmap": [
           {
            "colorbar": {
             "outlinewidth": 0,
             "ticks": ""
            },
            "colorscale": [
             [
              0,
              "#0d0887"
             ],
             [
              0.1111111111111111,
              "#46039f"
             ],
             [
              0.2222222222222222,
              "#7201a8"
             ],
             [
              0.3333333333333333,
              "#9c179e"
             ],
             [
              0.4444444444444444,
              "#bd3786"
             ],
             [
              0.5555555555555556,
              "#d8576b"
             ],
             [
              0.6666666666666666,
              "#ed7953"
             ],
             [
              0.7777777777777778,
              "#fb9f3a"
             ],
             [
              0.8888888888888888,
              "#fdca26"
             ],
             [
              1,
              "#f0f921"
             ]
            ],
            "type": "heatmap"
           }
          ],
          "histogram": [
           {
            "marker": {
             "pattern": {
              "fillmode": "overlay",
              "size": 10,
              "solidity": 0.2
             }
            },
            "type": "histogram"
           }
          ],
          "histogram2d": [
           {
            "colorbar": {
             "outlinewidth": 0,
             "ticks": ""
            },
            "colorscale": [
             [
              0,
              "#0d0887"
             ],
             [
              0.1111111111111111,
              "#46039f"
             ],
             [
              0.2222222222222222,
              "#7201a8"
             ],
             [
              0.3333333333333333,
              "#9c179e"
             ],
             [
              0.4444444444444444,
              "#bd3786"
             ],
             [
              0.5555555555555556,
              "#d8576b"
             ],
             [
              0.6666666666666666,
              "#ed7953"
             ],
             [
              0.7777777777777778,
              "#fb9f3a"
             ],
             [
              0.8888888888888888,
              "#fdca26"
             ],
             [
              1,
              "#f0f921"
             ]
            ],
            "type": "histogram2d"
           }
          ],
          "histogram2dcontour": [
           {
            "colorbar": {
             "outlinewidth": 0,
             "ticks": ""
            },
            "colorscale": [
             [
              0,
              "#0d0887"
             ],
             [
              0.1111111111111111,
              "#46039f"
             ],
             [
              0.2222222222222222,
              "#7201a8"
             ],
             [
              0.3333333333333333,
              "#9c179e"
             ],
             [
              0.4444444444444444,
              "#bd3786"
             ],
             [
              0.5555555555555556,
              "#d8576b"
             ],
             [
              0.6666666666666666,
              "#ed7953"
             ],
             [
              0.7777777777777778,
              "#fb9f3a"
             ],
             [
              0.8888888888888888,
              "#fdca26"
             ],
             [
              1,
              "#f0f921"
             ]
            ],
            "type": "histogram2dcontour"
           }
          ],
          "mesh3d": [
           {
            "colorbar": {
             "outlinewidth": 0,
             "ticks": ""
            },
            "type": "mesh3d"
           }
          ],
          "parcoords": [
           {
            "line": {
             "colorbar": {
              "outlinewidth": 0,
              "ticks": ""
             }
            },
            "type": "parcoords"
           }
          ],
          "pie": [
           {
            "automargin": true,
            "type": "pie"
           }
          ],
          "scatter": [
           {
            "fillpattern": {
             "fillmode": "overlay",
             "size": 10,
             "solidity": 0.2
            },
            "type": "scatter"
           }
          ],
          "scatter3d": [
           {
            "line": {
             "colorbar": {
              "outlinewidth": 0,
              "ticks": ""
             }
            },
            "marker": {
             "colorbar": {
              "outlinewidth": 0,
              "ticks": ""
             }
            },
            "type": "scatter3d"
           }
          ],
          "scattercarpet": [
           {
            "marker": {
             "colorbar": {
              "outlinewidth": 0,
              "ticks": ""
             }
            },
            "type": "scattercarpet"
           }
          ],
          "scattergeo": [
           {
            "marker": {
             "colorbar": {
              "outlinewidth": 0,
              "ticks": ""
             }
            },
            "type": "scattergeo"
           }
          ],
          "scattergl": [
           {
            "marker": {
             "colorbar": {
              "outlinewidth": 0,
              "ticks": ""
             }
            },
            "type": "scattergl"
           }
          ],
          "scattermap": [
           {
            "marker": {
             "colorbar": {
              "outlinewidth": 0,
              "ticks": ""
             }
            },
            "type": "scattermap"
           }
          ],
          "scattermapbox": [
           {
            "marker": {
             "colorbar": {
              "outlinewidth": 0,
              "ticks": ""
             }
            },
            "type": "scattermapbox"
           }
          ],
          "scatterpolar": [
           {
            "marker": {
             "colorbar": {
              "outlinewidth": 0,
              "ticks": ""
             }
            },
            "type": "scatterpolar"
           }
          ],
          "scatterpolargl": [
           {
            "marker": {
             "colorbar": {
              "outlinewidth": 0,
              "ticks": ""
             }
            },
            "type": "scatterpolargl"
           }
          ],
          "scatterternary": [
           {
            "marker": {
             "colorbar": {
              "outlinewidth": 0,
              "ticks": ""
             }
            },
            "type": "scatterternary"
           }
          ],
          "surface": [
           {
            "colorbar": {
             "outlinewidth": 0,
             "ticks": ""
            },
            "colorscale": [
             [
              0,
              "#0d0887"
             ],
             [
              0.1111111111111111,
              "#46039f"
             ],
             [
              0.2222222222222222,
              "#7201a8"
             ],
             [
              0.3333333333333333,
              "#9c179e"
             ],
             [
              0.4444444444444444,
              "#bd3786"
             ],
             [
              0.5555555555555556,
              "#d8576b"
             ],
             [
              0.6666666666666666,
              "#ed7953"
             ],
             [
              0.7777777777777778,
              "#fb9f3a"
             ],
             [
              0.8888888888888888,
              "#fdca26"
             ],
             [
              1,
              "#f0f921"
             ]
            ],
            "type": "surface"
           }
          ],
          "table": [
           {
            "cells": {
             "fill": {
              "color": "#EBF0F8"
             },
             "line": {
              "color": "white"
             }
            },
            "header": {
             "fill": {
              "color": "#C8D4E3"
             },
             "line": {
              "color": "white"
             }
            },
            "type": "table"
           }
          ]
         },
         "layout": {
          "annotationdefaults": {
           "arrowcolor": "#2a3f5f",
           "arrowhead": 0,
           "arrowwidth": 1
          },
          "autotypenumbers": "strict",
          "coloraxis": {
           "colorbar": {
            "outlinewidth": 0,
            "ticks": ""
           }
          },
          "colorscale": {
           "diverging": [
            [
             0,
             "#8e0152"
            ],
            [
             0.1,
             "#c51b7d"
            ],
            [
             0.2,
             "#de77ae"
            ],
            [
             0.3,
             "#f1b6da"
            ],
            [
             0.4,
             "#fde0ef"
            ],
            [
             0.5,
             "#f7f7f7"
            ],
            [
             0.6,
             "#e6f5d0"
            ],
            [
             0.7,
             "#b8e186"
            ],
            [
             0.8,
             "#7fbc41"
            ],
            [
             0.9,
             "#4d9221"
            ],
            [
             1,
             "#276419"
            ]
           ],
           "sequential": [
            [
             0,
             "#0d0887"
            ],
            [
             0.1111111111111111,
             "#46039f"
            ],
            [
             0.2222222222222222,
             "#7201a8"
            ],
            [
             0.3333333333333333,
             "#9c179e"
            ],
            [
             0.4444444444444444,
             "#bd3786"
            ],
            [
             0.5555555555555556,
             "#d8576b"
            ],
            [
             0.6666666666666666,
             "#ed7953"
            ],
            [
             0.7777777777777778,
             "#fb9f3a"
            ],
            [
             0.8888888888888888,
             "#fdca26"
            ],
            [
             1,
             "#f0f921"
            ]
           ],
           "sequentialminus": [
            [
             0,
             "#0d0887"
            ],
            [
             0.1111111111111111,
             "#46039f"
            ],
            [
             0.2222222222222222,
             "#7201a8"
            ],
            [
             0.3333333333333333,
             "#9c179e"
            ],
            [
             0.4444444444444444,
             "#bd3786"
            ],
            [
             0.5555555555555556,
             "#d8576b"
            ],
            [
             0.6666666666666666,
             "#ed7953"
            ],
            [
             0.7777777777777778,
             "#fb9f3a"
            ],
            [
             0.8888888888888888,
             "#fdca26"
            ],
            [
             1,
             "#f0f921"
            ]
           ]
          },
          "colorway": [
           "#636efa",
           "#EF553B",
           "#00cc96",
           "#ab63fa",
           "#FFA15A",
           "#19d3f3",
           "#FF6692",
           "#B6E880",
           "#FF97FF",
           "#FECB52"
          ],
          "font": {
           "color": "#2a3f5f"
          },
          "geo": {
           "bgcolor": "white",
           "lakecolor": "white",
           "landcolor": "#E5ECF6",
           "showlakes": true,
           "showland": true,
           "subunitcolor": "white"
          },
          "hoverlabel": {
           "align": "left"
          },
          "hovermode": "closest",
          "mapbox": {
           "style": "light"
          },
          "paper_bgcolor": "white",
          "plot_bgcolor": "#E5ECF6",
          "polar": {
           "angularaxis": {
            "gridcolor": "white",
            "linecolor": "white",
            "ticks": ""
           },
           "bgcolor": "#E5ECF6",
           "radialaxis": {
            "gridcolor": "white",
            "linecolor": "white",
            "ticks": ""
           }
          },
          "scene": {
           "xaxis": {
            "backgroundcolor": "#E5ECF6",
            "gridcolor": "white",
            "gridwidth": 2,
            "linecolor": "white",
            "showbackground": true,
            "ticks": "",
            "zerolinecolor": "white"
           },
           "yaxis": {
            "backgroundcolor": "#E5ECF6",
            "gridcolor": "white",
            "gridwidth": 2,
            "linecolor": "white",
            "showbackground": true,
            "ticks": "",
            "zerolinecolor": "white"
           },
           "zaxis": {
            "backgroundcolor": "#E5ECF6",
            "gridcolor": "white",
            "gridwidth": 2,
            "linecolor": "white",
            "showbackground": true,
            "ticks": "",
            "zerolinecolor": "white"
           }
          },
          "shapedefaults": {
           "line": {
            "color": "#2a3f5f"
           }
          },
          "ternary": {
           "aaxis": {
            "gridcolor": "white",
            "linecolor": "white",
            "ticks": ""
           },
           "baxis": {
            "gridcolor": "white",
            "linecolor": "white",
            "ticks": ""
           },
           "bgcolor": "#E5ECF6",
           "caxis": {
            "gridcolor": "white",
            "linecolor": "white",
            "ticks": ""
           }
          },
          "title": {
           "x": 0.05
          },
          "xaxis": {
           "automargin": true,
           "gridcolor": "white",
           "linecolor": "white",
           "ticks": "",
           "title": {
            "standoff": 15
           },
           "zerolinecolor": "white",
           "zerolinewidth": 2
          },
          "yaxis": {
           "automargin": true,
           "gridcolor": "white",
           "linecolor": "white",
           "ticks": "",
           "title": {
            "standoff": 15
           },
           "zerolinecolor": "white",
           "zerolinewidth": 2
          }
         }
        },
        "title": {
         "text": "Classification Report",
         "x": 0.5
        },
        "width": 900
       }
      }
     },
     "metadata": {},
     "output_type": "display_data"
    }
   ],
   "source": [
    "df_ = pd.DataFrame(classification_report_values).transpose()\n",
    "df_.reset_index(inplace=True)\n",
    "df_.columns = ['activity', 'precision', 'recall', 'f1-score', 'support']\n",
    "\n",
    "# decode the activity labels\n",
    "df_['activity'] = df_['activity'].apply(lambda x: dataset_summary[\"activity_decoder\"][x] if x in dataset_summary[\"activity_decoder\"] else \"---- \"+x)\n",
    "\n",
    "fig = go.Figure(data=[go.Table(\n",
    "    header=dict(values=list(df_.columns),\n",
    "                fill_color='paleturquoise',\n",
    "                align='left'),\n",
    "    cells=dict(values=[df_.activity, df_['precision'], df_['recall'], df_['f1-score'], df_['support']],\n",
    "               fill_color='lavender',\n",
    "               align='left'))\n",
    "])\n",
    "\n",
    "fig.update_layout(\n",
    "    autosize=False,\n",
    "    width=900,\n",
    "    height=600,\n",
    "    title_text=\"Classification Report\",\n",
    "    title_x=0.5\n",
    ")\n",
    "fig.show()\n"
   ]
  },
  {
   "cell_type": "code",
   "execution_count": 16,
   "id": "7fc80645",
   "metadata": {},
   "outputs": [
    {
     "ename": "Exception",
     "evalue": "End of the script",
     "output_type": "error",
     "traceback": [
      "\u001b[0;31m---------------------------------------------------------------------------\u001b[0m",
      "\u001b[0;31mException\u001b[0m                                 Traceback (most recent call last)",
      "Cell \u001b[0;32mIn[16], line 1\u001b[0m\n\u001b[0;32m----> 1\u001b[0m \u001b[38;5;28;01mraise\u001b[39;00m \u001b[38;5;167;01mException\u001b[39;00m(\u001b[38;5;124m\"\u001b[39m\u001b[38;5;124mEnd of the script\u001b[39m\u001b[38;5;124m\"\u001b[39m)\n",
      "\u001b[0;31mException\u001b[0m: End of the script"
     ]
    }
   ],
   "source": [
    "raise Exception(\"End of the script\")"
   ]
  },
  {
   "cell_type": "markdown",
   "id": "bed43961",
   "metadata": {},
   "source": [
    "----------"
   ]
  },
  {
   "cell_type": "markdown",
   "id": "c69d5419",
   "metadata": {},
   "source": [
    "### LSTM model for Time Series Forecasting"
   ]
  },
  {
   "cell_type": "code",
   "execution_count": null,
   "id": "c134a7d9",
   "metadata": {},
   "outputs": [],
   "source": [
    "def get_model(input_dim, output_dim, no_activities):\n",
    "    model = Sequential(name='biLSTM')\n",
    "    model.add(Embedding(input_dim, output_dim, mask_zero=True))\n",
    "    model.add(Bidirectional(LSTM(output_dim)))\n",
    "    model.add(Dense(no_activities, activation='softmax'))\n",
    "    return model\n",
    "\n",
    "def compile_model(model):\n",
    "    model.compile(loss='sparse_categorical_crossentropy', optimizer='adam', metrics=['accuracy'])\n",
    "    print(model.summary())\n",
    "    return model"
   ]
  },
  {
   "cell_type": "code",
   "execution_count": null,
   "id": "c6180865",
   "metadata": {},
   "outputs": [],
   "source": [
    "kfold = StratifiedKFold(n_splits=5, shuffle=True, random_state=seed)\n",
    "\n",
    "for train, test in kfold.split(X_train, y_train):\n",
    "  print(\"X train shape: \", X_train.iloc[train].shape)\n",
    "  print(\"y train shape: \", y_train.iloc[train].shape)\n",
    "  \n",
    "  model = get_model(X_train.shape[1], units, len(dataset_summary[\"activity_encoder\"]))\n",
    "  model = compile_model(model)\n",
    "  \n",
    "  current_time = datetime.now().strftime(\"%Y-%m-%d %H:%M:%S\")\n",
    "  \n",
    "  csv_logger = CSVLogger(f'logs/lstm_{current_time}.log', append=True, separator=';')\n",
    "  model_checkpoint = ModelCheckpoint(f'logs/lstm_{current_time}.h5', monitor='val_loss', save_best_only=True, mode='min')\n",
    "  \n",
    "  print(\"Training model...\")\n",
    "  class_weight = compute_class_weight('balanced', classes=np.unique(y_train.iloc[train]), y=y_train.iloc[train])\n",
    "  # Ensure input data contains valid indices for the embedding layer\n",
    "  X_train_mapped = X_train.applymap(lambda x: max(0, x))  # Map negative values to 0\n",
    "  X_train_mapped = X_train_mapped.clip(upper=X_train.shape[1] - 1)  # Clip values to valid range\n",
    "\n",
    "  model.fit(\n",
    "      X_train_mapped.iloc[train], \n",
    "      y_train.iloc[train],\n",
    "      validation_split=0.2,\n",
    "      epochs=epochs,\n",
    "      batch_size=64,\n",
    "      verbose=1)\n",
    "  \n",
    "  print(\"Evaluating model...\")\n",
    "  scores = model.evaluate(X_train.iloc[test], y_train.iloc[test],batch_size=64, verbose=1)\n",
    "  print('%s: %.2f' % (model.metrics_names[1], scores[1]*100))"
   ]
  }
 ],
 "metadata": {
  "kernelspec": {
   "display_name": "har",
   "language": "python",
   "name": "python3"
  },
  "language_info": {
   "codemirror_mode": {
    "name": "ipython",
    "version": 3
   },
   "file_extension": ".py",
   "mimetype": "text/x-python",
   "name": "python",
   "nbconvert_exporter": "python",
   "pygments_lexer": "ipython3",
   "version": "3.10.16"
  }
 },
 "nbformat": 4,
 "nbformat_minor": 5
}
